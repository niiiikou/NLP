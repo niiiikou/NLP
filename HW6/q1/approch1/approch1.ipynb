{
 "cells": [
  {
   "cell_type": "code",
   "execution_count": 1,
   "metadata": {},
   "outputs": [],
   "source": [
    "import pandas as pd\n",
    "import yaml"
   ]
  },
  {
   "cell_type": "code",
   "execution_count": 2,
   "metadata": {},
   "outputs": [],
   "source": [
    "df = pd.read_excel(\"MCI_Internet_TrainData.xlsx\")"
   ]
  },
  {
   "attachments": {},
   "cell_type": "markdown",
   "metadata": {},
   "source": [
    "# domain file"
   ]
  },
  {
   "cell_type": "code",
   "execution_count": 4,
   "metadata": {},
   "outputs": [],
   "source": [
    "file = open('domain.yml', \"w\", encoding=\"utf-8\")\n",
    "file.write('version: \"3.1\"\\n')\n",
    "file.write(\"intents:\\n\")\n",
    "for i,inte in enumerate(df['پاسخ']):\n",
    "    file.write(\"  - faq_general_{}\\n\".format(i))\n",
    "file.write(\"responses:\\n\")\n",
    "for i,inte in enumerate(df['پاسخ']):\n",
    "    file.write(\"  utter_faq_general_{}:\\n\".format(i))\n",
    "    file.write('  - text:')\n",
    "    file.write(f' \"{inte}\"\\n')\n",
    "file.close()"
   ]
  },
  {
   "attachments": {},
   "cell_type": "markdown",
   "metadata": {},
   "source": [
    "# nlu file"
   ]
  },
  {
   "cell_type": "code",
   "execution_count": 5,
   "metadata": {},
   "outputs": [],
   "source": [
    "file = open('nlu.yml', \"w\", encoding=\"utf-8\")\n",
    "file.write('version: \"3.1\"\\n')\n",
    "file.write(\"nlu:\\n\")\n",
    "df2 = df.iloc[:,7:]\n",
    "for i,inte in enumerate(df.index):\n",
    "    file.write(\"- intent: faq_general_{}\\n\".format(i))\n",
    "    file.write(\"  examples: |\\n\") \n",
    "    for j in range(15):\n",
    "        file.write(\"    - {}\\n\".format(df2.loc[i][j]))\n",
    "file.close()"
   ]
  },
  {
   "attachments": {},
   "cell_type": "markdown",
   "metadata": {},
   "source": [
    "# rules file"
   ]
  },
  {
   "cell_type": "code",
   "execution_count": 6,
   "metadata": {},
   "outputs": [],
   "source": [
    "file = open('rules.yml', \"w\", encoding=\"utf-8\")\n",
    "file.write('version: \"3.1\"\\n')\n",
    "file.write(\"rules:\\n\")\n",
    "for i,inte in enumerate(df['پاسخ']):\n",
    "    file.write(\"  - rule: general_{}\\n\".format(i))\n",
    "    file.write('    steps:\\n')\n",
    "    file.write(\"    - intent: faq_general_{}\\n\".format(i))\n",
    "    file.write(\"    - action: utter_faq_general_{}\\n\".format(i))\n",
    "file.close()\n",
    "    "
   ]
  },
  {
   "attachments": {},
   "cell_type": "markdown",
   "metadata": {},
   "source": [
    "# test_nlu"
   ]
  },
  {
   "cell_type": "code",
   "execution_count": 7,
   "metadata": {},
   "outputs": [],
   "source": [
    "df = pd.read_excel(\"MCI_Internet_TestData.xlsx\")"
   ]
  },
  {
   "cell_type": "code",
   "execution_count": 9,
   "metadata": {},
   "outputs": [],
   "source": [
    "file = open('test_nlu.yml', \"w\", encoding=\"utf-8\")\n",
    "file.write('version: \"3.1\"\\n')\n",
    "file.write(\"nlu:\\n\")\n",
    "df2 = df.iloc[:,7:]\n",
    "for i,inte in enumerate(df.index):\n",
    "    file.write(\"- intent: faq_general_{}\\n\".format(i))\n",
    "    file.write(\"  examples: |\\n\") \n",
    "    for j in range(5):\n",
    "        file.write(\"    - {}\\n\".format(df2.loc[i][j]))\n",
    "file.close()"
   ]
  }
 ],
 "metadata": {
  "kernelspec": {
   "display_name": "Python 3",
   "language": "python",
   "name": "python3"
  },
  "language_info": {
   "codemirror_mode": {
    "name": "ipython",
    "version": 3
   },
   "file_extension": ".py",
   "mimetype": "text/x-python",
   "name": "python",
   "nbconvert_exporter": "python",
   "pygments_lexer": "ipython3",
   "version": "3.8.6"
  },
  "orig_nbformat": 4
 },
 "nbformat": 4,
 "nbformat_minor": 2
}
