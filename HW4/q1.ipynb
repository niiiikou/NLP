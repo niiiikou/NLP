{
  "cells": [
    {
      "cell_type": "markdown",
      "metadata": {
        "id": "_uOUhLyKa33z"
      },
      "source": [
        "As it is mentioned in the documentation, the returns of the BERT model are (last_hidden_state, pooler_output, hidden_states[optional], attentions[optional])\n",
        "\n",
        "output[0] is therefore the last hidden state and output[1] is the pooler output."
      ]
    },
    {
      "cell_type": "code",
      "execution_count": 1,
      "metadata": {
        "colab": {
          "base_uri": "https://localhost:8080/"
        },
        "id": "0g7Uww3m5y6f",
        "outputId": "b62ab9e1-8848-4b0d-ff5a-16ed811cfe0a"
      },
      "outputs": [
        {
          "output_type": "stream",
          "name": "stdout",
          "text": [
            "Looking in indexes: https://pypi.org/simple, https://us-python.pkg.dev/colab-wheels/public/simple/\n",
            "Collecting transformers\n",
            "  Downloading transformers-4.29.2-py3-none-any.whl (7.1 MB)\n",
            "\u001b[2K     \u001b[90m━━━━━━━━━━━━━━━━━━━━━━━━━━━━━━━━━━━━━━━━\u001b[0m \u001b[32m7.1/7.1 MB\u001b[0m \u001b[31m51.6 MB/s\u001b[0m eta \u001b[36m0:00:00\u001b[0m\n",
            "\u001b[?25hRequirement already satisfied: filelock in /usr/local/lib/python3.10/dist-packages (from transformers) (3.12.0)\n",
            "Collecting huggingface-hub<1.0,>=0.14.1 (from transformers)\n",
            "  Downloading huggingface_hub-0.14.1-py3-none-any.whl (224 kB)\n",
            "\u001b[2K     \u001b[90m━━━━━━━━━━━━━━━━━━━━━━━━━━━━━━━━━━━━━━\u001b[0m \u001b[32m224.5/224.5 kB\u001b[0m \u001b[31m16.3 MB/s\u001b[0m eta \u001b[36m0:00:00\u001b[0m\n",
            "\u001b[?25hRequirement already satisfied: numpy>=1.17 in /usr/local/lib/python3.10/dist-packages (from transformers) (1.22.4)\n",
            "Requirement already satisfied: packaging>=20.0 in /usr/local/lib/python3.10/dist-packages (from transformers) (23.1)\n",
            "Requirement already satisfied: pyyaml>=5.1 in /usr/local/lib/python3.10/dist-packages (from transformers) (6.0)\n",
            "Requirement already satisfied: regex!=2019.12.17 in /usr/local/lib/python3.10/dist-packages (from transformers) (2022.10.31)\n",
            "Requirement already satisfied: requests in /usr/local/lib/python3.10/dist-packages (from transformers) (2.27.1)\n",
            "Collecting tokenizers!=0.11.3,<0.14,>=0.11.1 (from transformers)\n",
            "  Downloading tokenizers-0.13.3-cp310-cp310-manylinux_2_17_x86_64.manylinux2014_x86_64.whl (7.8 MB)\n",
            "\u001b[2K     \u001b[90m━━━━━━━━━━━━━━━━━━━━━━━━━━━━━━━━━━━━━━━━\u001b[0m \u001b[32m7.8/7.8 MB\u001b[0m \u001b[31m62.4 MB/s\u001b[0m eta \u001b[36m0:00:00\u001b[0m\n",
            "\u001b[?25hRequirement already satisfied: tqdm>=4.27 in /usr/local/lib/python3.10/dist-packages (from transformers) (4.65.0)\n",
            "Requirement already satisfied: fsspec in /usr/local/lib/python3.10/dist-packages (from huggingface-hub<1.0,>=0.14.1->transformers) (2023.4.0)\n",
            "Requirement already satisfied: typing-extensions>=3.7.4.3 in /usr/local/lib/python3.10/dist-packages (from huggingface-hub<1.0,>=0.14.1->transformers) (4.5.0)\n",
            "Requirement already satisfied: urllib3<1.27,>=1.21.1 in /usr/local/lib/python3.10/dist-packages (from requests->transformers) (1.26.15)\n",
            "Requirement already satisfied: certifi>=2017.4.17 in /usr/local/lib/python3.10/dist-packages (from requests->transformers) (2022.12.7)\n",
            "Requirement already satisfied: charset-normalizer~=2.0.0 in /usr/local/lib/python3.10/dist-packages (from requests->transformers) (2.0.12)\n",
            "Requirement already satisfied: idna<4,>=2.5 in /usr/local/lib/python3.10/dist-packages (from requests->transformers) (3.4)\n",
            "Installing collected packages: tokenizers, huggingface-hub, transformers\n",
            "Successfully installed huggingface-hub-0.14.1 tokenizers-0.13.3 transformers-4.29.2\n"
          ]
        }
      ],
      "source": [
        "!pip install transformers"
      ]
    },
    {
      "cell_type": "code",
      "execution_count": 2,
      "metadata": {
        "id": "HDs67G2qlzIr"
      },
      "outputs": [],
      "source": [
        "import torch\n",
        "import tqdm\n",
        "from torch.utils.data import Dataset, TensorDataset, DataLoader\n",
        "from torch.nn.utils.rnn import pad_sequence\n",
        "import pickle\n",
        "import os\n",
        "from transformers import BertTokenizer, AutoModel,BertModel\n",
        "import pandas as pd\n",
        "import torch.optim as optim\n",
        "from sklearn.metrics import accuracy_score, f1_score, confusion_matrix \n",
        "import matplotlib.pyplot as plt\n",
        "import random\n"
      ]
    },
    {
      "cell_type": "code",
      "execution_count": 3,
      "metadata": {
        "colab": {
          "base_uri": "https://localhost:8080/",
          "height": 154,
          "referenced_widgets": [
            "77665dcdaa3b46c58c1a1e1282c042fe",
            "8a146854e0f64f2fbd02655010f660e3",
            "fcbd78ee626c4523b834fa339b4fe4ae",
            "094eaf0ff21f40de84a0360ab5a101c5",
            "91dab16865424bb69fa30b89f998b324",
            "084d544a544140eea6c19356ed466404",
            "c648be9b817f4d95a4cd9143960b4f4c",
            "ce865f6bfc7b47e287414087d1f2681e",
            "6044d0e3b26d42a9b1c0369ec53d4744",
            "e41f53a8a6544fe0a93ec8806152e1b8",
            "573ee368e2aa4437b3defcbf1251243e",
            "73aa0e48f7054035b7b14e0c659144b1",
            "580901ba525c4d2cb56ff539eabebc3f",
            "eb306766283741fb975dcd27a24e6771",
            "55381bb0116b41808e220a5941a3f9e9",
            "422e8cc90b7a4a839c11d11489b35040",
            "7287b9a0be974a4685b34e38587f9dce",
            "17abe7b0ea4d466292b954416a44bdd1",
            "071344cdd9714a029f6d1de927eede1d",
            "491b32daf48b4a2799500d2f5adaca3f",
            "e646f5672a7d4795b5d2df2ed8315760",
            "149fdbbec89d4c009bc7a3530432385b"
          ]
        },
        "id": "xVBEivj_mypr",
        "outputId": "1610ddc8-dbb6-47f0-a0dd-5c0ed7bceb43"
      },
      "outputs": [
        {
          "output_type": "display_data",
          "data": {
            "text/plain": [
              "Downloading (…)lve/main/config.json:   0%|          | 0.00/434 [00:00<?, ?B/s]"
            ],
            "application/vnd.jupyter.widget-view+json": {
              "version_major": 2,
              "version_minor": 0,
              "model_id": "77665dcdaa3b46c58c1a1e1282c042fe"
            }
          },
          "metadata": {}
        },
        {
          "output_type": "display_data",
          "data": {
            "text/plain": [
              "Downloading pytorch_model.bin:   0%|          | 0.00/654M [00:00<?, ?B/s]"
            ],
            "application/vnd.jupyter.widget-view+json": {
              "version_major": 2,
              "version_minor": 0,
              "model_id": "73aa0e48f7054035b7b14e0c659144b1"
            }
          },
          "metadata": {}
        },
        {
          "output_type": "stream",
          "name": "stderr",
          "text": [
            "Some weights of the model checkpoint at HooshvareLab/bert-base-parsbert-uncased were not used when initializing BertModel: ['cls.seq_relationship.weight', 'cls.predictions.transform.LayerNorm.weight', 'cls.predictions.decoder.bias', 'cls.predictions.transform.LayerNorm.bias', 'cls.seq_relationship.bias', 'cls.predictions.bias', 'cls.predictions.transform.dense.bias', 'cls.predictions.decoder.weight', 'cls.predictions.transform.dense.weight']\n",
            "- This IS expected if you are initializing BertModel from the checkpoint of a model trained on another task or with another architecture (e.g. initializing a BertForSequenceClassification model from a BertForPreTraining model).\n",
            "- This IS NOT expected if you are initializing BertModel from the checkpoint of a model that you expect to be exactly identical (initializing a BertForSequenceClassification model from a BertForSequenceClassification model).\n"
          ]
        }
      ],
      "source": [
        "modell = AutoModel.from_pretrained(\"HooshvareLab/bert-base-parsbert-uncased\")"
      ]
    },
    {
      "cell_type": "code",
      "execution_count": 1,
      "metadata": {
        "colab": {
          "base_uri": "https://localhost:8080/"
        },
        "id": "XgyhgwbdId5N",
        "outputId": "0daad8e3-c2ee-4189-c609-28923c9e039b"
      },
      "outputs": [
        {
          "output_type": "stream",
          "name": "stdout",
          "text": [
            "Mounted at /content/drive\n"
          ]
        }
      ],
      "source": [
        "from google.colab import drive\n",
        "drive.mount('/content/drive')"
      ]
    },
    {
      "cell_type": "code",
      "execution_count": 5,
      "metadata": {
        "id": "iJIcKqPvm9xN"
      },
      "outputs": [],
      "source": [
        "device = torch.device('cuda' if torch.cuda.is_available() else 'cpu')"
      ]
    },
    {
      "cell_type": "code",
      "execution_count": 6,
      "metadata": {
        "colab": {
          "base_uri": "https://localhost:8080/"
        },
        "id": "lfva066kmQ0q",
        "outputId": "40cf8c43-1386-4b78-f00a-ec710da4eff9"
      },
      "outputs": [
        {
          "output_type": "stream",
          "name": "stdout",
          "text": [
            "Cloning into 'FarsTail'...\n",
            "remote: Enumerating objects: 125, done.\u001b[K\n",
            "remote: Counting objects: 100% (21/21), done.\u001b[K\n",
            "remote: Compressing objects: 100% (3/3), done.\u001b[K\n",
            "remote: Total 125 (delta 19), reused 18 (delta 18), pack-reused 104\u001b[K\n",
            "Receiving objects: 100% (125/125), 43.86 MiB | 17.66 MiB/s, done.\n",
            "Resolving deltas: 100% (33/33), done.\n"
          ]
        }
      ],
      "source": [
        "!git clone https://github.com/dml-qom/FarsTail.git"
      ]
    },
    {
      "cell_type": "code",
      "execution_count": 7,
      "metadata": {
        "id": "udeCCYEm9em6"
      },
      "outputs": [],
      "source": [
        "train_df = pd.read_csv('/content/FarsTail/data/Train-word.csv', sep='\\t')\n",
        "val_df = pd.read_csv('/content/FarsTail/data/Val-word.csv', sep='\\t')\n",
        "test_df = pd.read_csv('/content/FarsTail/data/Test-word.csv', sep='\\t')"
      ]
    },
    {
      "cell_type": "code",
      "execution_count": 8,
      "metadata": {
        "colab": {
          "base_uri": "https://localhost:8080/",
          "height": 423
        },
        "id": "Y-Vxh4TWqBjU",
        "outputId": "66e29590-11e0-4d22-f08e-7dabb348f4ed"
      },
      "outputs": [
        {
          "output_type": "execute_result",
          "data": {
            "text/plain": [
              "                                                premise  \\\n",
              "0     دوران امامت امام صادق علیه السلام، مصادف است ب...   \n",
              "1     دوران امامت امام صادق علیه السلام، مصادف است ب...   \n",
              "2     با شهادت امام رضا(ع) مرحله جدیدی از تلاش ائمه ...   \n",
              "3     با شهادت امام رضا(ع) مرحله جدیدی از تلاش ائمه ...   \n",
              "4     با شهادت امام رضا(ع) مرحله جدیدی از تلاش ائمه ...   \n",
              "...                                                 ...   \n",
              "1559  دریای خَزَر یا دریای مازَندَران یا (با رواج کم...   \n",
              "1560  دریای خَزَر یا دریای مازَندَران یا (با رواج کم...   \n",
              "1561  اولین چاپ مطالب به زبان فارسی در روزنامه‌های ه...   \n",
              "1562  اولین چاپ مطالب به زبان فارسی در روزنامه‌های ه...   \n",
              "1563  اولین چاپ مطالب به زبان فارسی در روزنامه‌های ه...   \n",
              "\n",
              "                                             hypothesis label  \\\n",
              "0     امام سجاد (ع) در دورانی امامت کردند که همزمان ...     c   \n",
              "1     دستگاه فاسد حکومتی با صرف هزینه های هنگفت، سعی...     n   \n",
              "2     دوران محنت اهل بیت پس از شهادت امام رضا(ع) آغا...     e   \n",
              "3     بعد از به شهادت رسیدن امام هادی(ع) دوران محنت ...     c   \n",
              "4     حضرت جواد(ع) در سال ۱۹۵ هجری در مدینه ولادت یافت.     n   \n",
              "...                                                 ...   ...   \n",
              "1559    در حاشیه ی دریای خزر کشور آذربایجان وجود ندارد.     c   \n",
              "1560  جمهوری آذربایجان به ترکی آذربایجانی بزرگترین ک...     n   \n",
              "1561            اولین روزنامه فارسی در هند انتشار یافت.     e   \n",
              "1562             ایران نخستین روزنامه فارسی را چاپ کرد.     c   \n",
              "1563  اولین روزنامه چاپی که به زبان فارسی در ایران م...     n   \n",
              "\n",
              "      hard(hypothesis)  hard(overlap)  \n",
              "0                    0              1  \n",
              "1                    1              0  \n",
              "2                    0              0  \n",
              "3                    1              1  \n",
              "4                    1              0  \n",
              "...                ...            ...  \n",
              "1559                 0              1  \n",
              "1560                 0              1  \n",
              "1561                 1              0  \n",
              "1562                 1              0  \n",
              "1563                 1              1  \n",
              "\n",
              "[1564 rows x 5 columns]"
            ],
            "text/html": [
              "\n",
              "  <div id=\"df-34e6cfa2-71c9-4b72-907a-b116f829b4b4\">\n",
              "    <div class=\"colab-df-container\">\n",
              "      <div>\n",
              "<style scoped>\n",
              "    .dataframe tbody tr th:only-of-type {\n",
              "        vertical-align: middle;\n",
              "    }\n",
              "\n",
              "    .dataframe tbody tr th {\n",
              "        vertical-align: top;\n",
              "    }\n",
              "\n",
              "    .dataframe thead th {\n",
              "        text-align: right;\n",
              "    }\n",
              "</style>\n",
              "<table border=\"1\" class=\"dataframe\">\n",
              "  <thead>\n",
              "    <tr style=\"text-align: right;\">\n",
              "      <th></th>\n",
              "      <th>premise</th>\n",
              "      <th>hypothesis</th>\n",
              "      <th>label</th>\n",
              "      <th>hard(hypothesis)</th>\n",
              "      <th>hard(overlap)</th>\n",
              "    </tr>\n",
              "  </thead>\n",
              "  <tbody>\n",
              "    <tr>\n",
              "      <th>0</th>\n",
              "      <td>دوران امامت امام صادق علیه السلام، مصادف است ب...</td>\n",
              "      <td>امام سجاد (ع) در دورانی امامت کردند که همزمان ...</td>\n",
              "      <td>c</td>\n",
              "      <td>0</td>\n",
              "      <td>1</td>\n",
              "    </tr>\n",
              "    <tr>\n",
              "      <th>1</th>\n",
              "      <td>دوران امامت امام صادق علیه السلام، مصادف است ب...</td>\n",
              "      <td>دستگاه فاسد حکومتی با صرف هزینه های هنگفت، سعی...</td>\n",
              "      <td>n</td>\n",
              "      <td>1</td>\n",
              "      <td>0</td>\n",
              "    </tr>\n",
              "    <tr>\n",
              "      <th>2</th>\n",
              "      <td>با شهادت امام رضا(ع) مرحله جدیدی از تلاش ائمه ...</td>\n",
              "      <td>دوران محنت اهل بیت پس از شهادت امام رضا(ع) آغا...</td>\n",
              "      <td>e</td>\n",
              "      <td>0</td>\n",
              "      <td>0</td>\n",
              "    </tr>\n",
              "    <tr>\n",
              "      <th>3</th>\n",
              "      <td>با شهادت امام رضا(ع) مرحله جدیدی از تلاش ائمه ...</td>\n",
              "      <td>بعد از به شهادت رسیدن امام هادی(ع) دوران محنت ...</td>\n",
              "      <td>c</td>\n",
              "      <td>1</td>\n",
              "      <td>1</td>\n",
              "    </tr>\n",
              "    <tr>\n",
              "      <th>4</th>\n",
              "      <td>با شهادت امام رضا(ع) مرحله جدیدی از تلاش ائمه ...</td>\n",
              "      <td>حضرت جواد(ع) در سال ۱۹۵ هجری در مدینه ولادت یافت.</td>\n",
              "      <td>n</td>\n",
              "      <td>1</td>\n",
              "      <td>0</td>\n",
              "    </tr>\n",
              "    <tr>\n",
              "      <th>...</th>\n",
              "      <td>...</td>\n",
              "      <td>...</td>\n",
              "      <td>...</td>\n",
              "      <td>...</td>\n",
              "      <td>...</td>\n",
              "    </tr>\n",
              "    <tr>\n",
              "      <th>1559</th>\n",
              "      <td>دریای خَزَر یا دریای مازَندَران یا (با رواج کم...</td>\n",
              "      <td>در حاشیه ی دریای خزر کشور آذربایجان وجود ندارد.</td>\n",
              "      <td>c</td>\n",
              "      <td>0</td>\n",
              "      <td>1</td>\n",
              "    </tr>\n",
              "    <tr>\n",
              "      <th>1560</th>\n",
              "      <td>دریای خَزَر یا دریای مازَندَران یا (با رواج کم...</td>\n",
              "      <td>جمهوری آذربایجان به ترکی آذربایجانی بزرگترین ک...</td>\n",
              "      <td>n</td>\n",
              "      <td>0</td>\n",
              "      <td>1</td>\n",
              "    </tr>\n",
              "    <tr>\n",
              "      <th>1561</th>\n",
              "      <td>اولین چاپ مطالب به زبان فارسی در روزنامه‌های ه...</td>\n",
              "      <td>اولین روزنامه فارسی در هند انتشار یافت.</td>\n",
              "      <td>e</td>\n",
              "      <td>1</td>\n",
              "      <td>0</td>\n",
              "    </tr>\n",
              "    <tr>\n",
              "      <th>1562</th>\n",
              "      <td>اولین چاپ مطالب به زبان فارسی در روزنامه‌های ه...</td>\n",
              "      <td>ایران نخستین روزنامه فارسی را چاپ کرد.</td>\n",
              "      <td>c</td>\n",
              "      <td>1</td>\n",
              "      <td>0</td>\n",
              "    </tr>\n",
              "    <tr>\n",
              "      <th>1563</th>\n",
              "      <td>اولین چاپ مطالب به زبان فارسی در روزنامه‌های ه...</td>\n",
              "      <td>اولین روزنامه چاپی که به زبان فارسی در ایران م...</td>\n",
              "      <td>n</td>\n",
              "      <td>1</td>\n",
              "      <td>1</td>\n",
              "    </tr>\n",
              "  </tbody>\n",
              "</table>\n",
              "<p>1564 rows × 5 columns</p>\n",
              "</div>\n",
              "      <button class=\"colab-df-convert\" onclick=\"convertToInteractive('df-34e6cfa2-71c9-4b72-907a-b116f829b4b4')\"\n",
              "              title=\"Convert this dataframe to an interactive table.\"\n",
              "              style=\"display:none;\">\n",
              "        \n",
              "  <svg xmlns=\"http://www.w3.org/2000/svg\" height=\"24px\"viewBox=\"0 0 24 24\"\n",
              "       width=\"24px\">\n",
              "    <path d=\"M0 0h24v24H0V0z\" fill=\"none\"/>\n",
              "    <path d=\"M18.56 5.44l.94 2.06.94-2.06 2.06-.94-2.06-.94-.94-2.06-.94 2.06-2.06.94zm-11 1L8.5 8.5l.94-2.06 2.06-.94-2.06-.94L8.5 2.5l-.94 2.06-2.06.94zm10 10l.94 2.06.94-2.06 2.06-.94-2.06-.94-.94-2.06-.94 2.06-2.06.94z\"/><path d=\"M17.41 7.96l-1.37-1.37c-.4-.4-.92-.59-1.43-.59-.52 0-1.04.2-1.43.59L10.3 9.45l-7.72 7.72c-.78.78-.78 2.05 0 2.83L4 21.41c.39.39.9.59 1.41.59.51 0 1.02-.2 1.41-.59l7.78-7.78 2.81-2.81c.8-.78.8-2.07 0-2.86zM5.41 20L4 18.59l7.72-7.72 1.47 1.35L5.41 20z\"/>\n",
              "  </svg>\n",
              "      </button>\n",
              "      \n",
              "  <style>\n",
              "    .colab-df-container {\n",
              "      display:flex;\n",
              "      flex-wrap:wrap;\n",
              "      gap: 12px;\n",
              "    }\n",
              "\n",
              "    .colab-df-convert {\n",
              "      background-color: #E8F0FE;\n",
              "      border: none;\n",
              "      border-radius: 50%;\n",
              "      cursor: pointer;\n",
              "      display: none;\n",
              "      fill: #1967D2;\n",
              "      height: 32px;\n",
              "      padding: 0 0 0 0;\n",
              "      width: 32px;\n",
              "    }\n",
              "\n",
              "    .colab-df-convert:hover {\n",
              "      background-color: #E2EBFA;\n",
              "      box-shadow: 0px 1px 2px rgba(60, 64, 67, 0.3), 0px 1px 3px 1px rgba(60, 64, 67, 0.15);\n",
              "      fill: #174EA6;\n",
              "    }\n",
              "\n",
              "    [theme=dark] .colab-df-convert {\n",
              "      background-color: #3B4455;\n",
              "      fill: #D2E3FC;\n",
              "    }\n",
              "\n",
              "    [theme=dark] .colab-df-convert:hover {\n",
              "      background-color: #434B5C;\n",
              "      box-shadow: 0px 1px 3px 1px rgba(0, 0, 0, 0.15);\n",
              "      filter: drop-shadow(0px 1px 2px rgba(0, 0, 0, 0.3));\n",
              "      fill: #FFFFFF;\n",
              "    }\n",
              "  </style>\n",
              "\n",
              "      <script>\n",
              "        const buttonEl =\n",
              "          document.querySelector('#df-34e6cfa2-71c9-4b72-907a-b116f829b4b4 button.colab-df-convert');\n",
              "        buttonEl.style.display =\n",
              "          google.colab.kernel.accessAllowed ? 'block' : 'none';\n",
              "\n",
              "        async function convertToInteractive(key) {\n",
              "          const element = document.querySelector('#df-34e6cfa2-71c9-4b72-907a-b116f829b4b4');\n",
              "          const dataTable =\n",
              "            await google.colab.kernel.invokeFunction('convertToInteractive',\n",
              "                                                     [key], {});\n",
              "          if (!dataTable) return;\n",
              "\n",
              "          const docLinkHtml = 'Like what you see? Visit the ' +\n",
              "            '<a target=\"_blank\" href=https://colab.research.google.com/notebooks/data_table.ipynb>data table notebook</a>'\n",
              "            + ' to learn more about interactive tables.';\n",
              "          element.innerHTML = '';\n",
              "          dataTable['output_type'] = 'display_data';\n",
              "          await google.colab.output.renderOutput(dataTable, element);\n",
              "          const docLink = document.createElement('div');\n",
              "          docLink.innerHTML = docLinkHtml;\n",
              "          element.appendChild(docLink);\n",
              "        }\n",
              "      </script>\n",
              "    </div>\n",
              "  </div>\n",
              "  "
            ]
          },
          "metadata": {},
          "execution_count": 8
        }
      ],
      "source": [
        "test_df"
      ]
    },
    {
      "cell_type": "code",
      "execution_count": 8,
      "metadata": {
        "id": "EqFGEiCJHsx-"
      },
      "outputs": [],
      "source": []
    },
    {
      "cell_type": "code",
      "execution_count": 9,
      "metadata": {
        "colab": {
          "base_uri": "https://localhost:8080/"
        },
        "id": "OjzV4c8HokYK",
        "outputId": "bc097d33-1a88-4547-b5d6-d1f398b57aff"
      },
      "outputs": [
        {
          "output_type": "execute_result",
          "data": {
            "text/plain": [
              "premise       0\n",
              "hypothesis    0\n",
              "label         0\n",
              "dtype: int64"
            ]
          },
          "metadata": {},
          "execution_count": 9
        }
      ],
      "source": [
        "val_df.isnull().sum()"
      ]
    },
    {
      "cell_type": "code",
      "execution_count": 10,
      "metadata": {
        "id": "zWnz_NlepyFX"
      },
      "outputs": [],
      "source": [
        "def save_checkpoint(state, filename):\n",
        "    model_save_name = filename\n",
        "    path = F\"/content/drive/My Drive/{model_save_name}\" \n",
        "    print(\"=> Saving checkpoint\")\n",
        "    torch.save(state, path)\n",
        "\n",
        "\n",
        "def load_checkpoint(checkpoint,model):\n",
        "    print(\"=> Loading checkpoint\")\n",
        "    #model.load_state_dict(checkpoint[\"state_dict\"])\n",
        "    test_list = checkpoint[\"test_acc_list\"]\n",
        "    return test_list"
      ]
    },
    {
      "cell_type": "code",
      "execution_count": 11,
      "metadata": {
        "id": "GhCYVFIdlxbS"
      },
      "outputs": [],
      "source": [
        "class FarsTailDataBert(Dataset):\n",
        "\n",
        "  def __init__(self, train_df, val_df, test_df):\n",
        "    self.label_dict = {'e': 0, 'c': 1, 'n': 2}\n",
        "\n",
        "    self.train_df = train_df\n",
        "    self.val_df = val_df\n",
        "    self.test_df = test_df\n",
        "\n",
        "    self.tokenizer = BertTokenizer.from_pretrained(\"HooshvareLab/bert-base-parsbert-uncased\") # Using a pre-trained BERT tokenizer to encode sentences\n",
        "    self.init_data()\n",
        "\n",
        "  def init_data(self):\n",
        "    self.train_data = self.load_data(self.train_df)\n",
        "    self.val_data = self.load_data(self.val_df)\n",
        "    self.test_data = self.load_data(self.test_df)\n",
        "\n",
        "  def load_data(self, df):\n",
        "    MAX_LEN = 512\n",
        "    token_ids = []\n",
        "    mask_ids = []\n",
        "    seg_ids = []\n",
        "    y = []\n",
        "\n",
        "    premise_list = df['premise'].to_list()\n",
        "    hypothesis_list = df['hypothesis'].to_list()\n",
        "    label_list = df['label'].to_list()\n",
        "\n",
        "    for (premise, hypothesis, label) in zip(premise_list, hypothesis_list, label_list):\n",
        "      premise_id = self.tokenizer.encode(premise, add_special_tokens = False)\n",
        "      hypothesis_id = self.tokenizer.encode(hypothesis, add_special_tokens = False)\n",
        "      pair_token_ids = [self.tokenizer.cls_token_id] + premise_id + [self.tokenizer.sep_token_id] + hypothesis_id + [self.tokenizer.sep_token_id]\n",
        "      premise_len = len(premise_id)\n",
        "      hypothesis_len = len(hypothesis_id)\n",
        "\n",
        "      segment_ids = torch.tensor([0] * (premise_len + 2) + [1] * (hypothesis_len + 1))  # sentence 0 and sentence 1\n",
        "      attention_mask_ids = torch.tensor([1] * (premise_len + hypothesis_len + 3))  # mask padded values\n",
        "\n",
        "      token_ids.append(torch.tensor(pair_token_ids))\n",
        "      seg_ids.append(segment_ids)\n",
        "      mask_ids.append(attention_mask_ids)\n",
        "      y.append(self.label_dict[label])\n",
        "\n",
        "    \n",
        "    token_ids = pad_sequence(token_ids, batch_first=True)\n",
        "    mask_ids = pad_sequence(mask_ids, batch_first=True)\n",
        "    seg_ids = pad_sequence(seg_ids, batch_first=True)\n",
        "    \n",
        "    y = torch.tensor(y)\n",
        "    dataset = TensorDataset(token_ids, mask_ids, seg_ids, y)\n",
        "    print(len(dataset))\n",
        "    return dataset\n",
        "\n",
        "  def get_data_loaders(self, batch_size=32, shuffle=True):\n",
        "    train_loader = DataLoader(\n",
        "      self.train_data,\n",
        "      shuffle=shuffle,\n",
        "      batch_size=batch_size\n",
        "    )\n",
        "  \n",
        "\n",
        "    val_loader = DataLoader(\n",
        "      self.val_data,\n",
        "      shuffle=shuffle,\n",
        "      batch_size=batch_size\n",
        "    )\n",
        "\n",
        "    test_loader = DataLoader(\n",
        "      self.test_data,\n",
        "      shuffle=shuffle,\n",
        "      batch_size=batch_size\n",
        "    )\n",
        "\n",
        "    return train_loader, val_loader, test_loader\n",
        "  \n"
      ]
    },
    {
      "cell_type": "markdown",
      "metadata": {
        "id": "G1ZMQ5huoZxX"
      },
      "source": [
        "## task1"
      ]
    },
    {
      "cell_type": "code",
      "execution_count": 12,
      "metadata": {
        "id": "0IS_iet99hg1"
      },
      "outputs": [],
      "source": [
        "import torch.nn as nn\n",
        "\n",
        "class BERTNLIModel(nn.Module):\n",
        "    def __init__(self):\n",
        "        \n",
        "        super().__init__()\n",
        "        \n",
        "        self.bert = AutoModel.from_pretrained(\"HooshvareLab/bert-base-parsbert-uncased\")\n",
        "        embedding_dim = self.bert.config.to_dict()['hidden_size']\n",
        "\n",
        "        encoder_layer = nn.TransformerEncoderLayer(d_model=embedding_dim, nhead=8)\n",
        "        self.transformer_encoder = nn.TransformerEncoder(encoder_layer, num_layers=6)\n",
        "\n",
        "        self.dropout = nn.Dropout(0.2)\n",
        "\n",
        "        self.fc1 = nn.Linear(embedding_dim, 256)\n",
        "        self.act_func = nn.ReLU()\n",
        "        self.fc2 = nn.Linear(256, 3)\n",
        "\n",
        "    def forward(self, sequence, attn_mask, token_type):\n",
        "          \n",
        "        embedded = self.bert(input_ids = sequence, attention_mask = attn_mask, token_type_ids= token_type)\n",
        "        # print(\"embedded :\",embedded)\n",
        "        # print(\"embedded['last_hidden_state']:\",embedded['last_hidden_state'])\n",
        "        t_e = self.transformer_encoder( self.dropout(embedded['last_hidden_state']))\n",
        "        out = self.act_func(self.fc1(torch.mean(t_e, dim=1)))\n",
        "        out = self.fc2(out)\n",
        "\n",
        "        return out"
      ]
    },
    {
      "cell_type": "markdown",
      "metadata": {
        "id": "1RQbOo6kvzPe"
      },
      "source": [
        "model = BERTNLIModel().to(device)\n",
        "\n",
        "for batch_idx, (pair_token_ids, mask_ids, seg_ids, y) in enumerate(train_loader):\n",
        "  model(pair_token_ids, mask_ids, seg_ids)\n",
        "  break\n"
      ]
    },
    {
      "cell_type": "markdown",
      "metadata": {
        "id": "aXoc2qzioGQP"
      },
      "source": [
        "model.bert.encoder.layer[0]"
      ]
    },
    {
      "cell_type": "code",
      "execution_count": 12,
      "metadata": {
        "id": "uozOJkX0Arz_"
      },
      "outputs": [],
      "source": []
    },
    {
      "cell_type": "code",
      "execution_count": 13,
      "metadata": {
        "id": "WpLtomX3AQWk"
      },
      "outputs": [],
      "source": [
        "def train(model, iterator, optimizer, criterion):\n",
        "    #print(iterator)\n",
        "    \n",
        "    epoch_loss = 0\n",
        "    epoch_acc = 0\n",
        "    pred = []\n",
        "    labels = []\n",
        "    \n",
        "    model.train()\n",
        "    \n",
        "    for batch_idx, (pair_token_ids, mask_ids, seg_ids, y) in enumerate(iterator):\n",
        "\n",
        "        optimizer.zero_grad() # clear gradients first\n",
        "        torch.cuda.empty_cache() # releases all unoccupied cached memory \n",
        "         \n",
        "\n",
        "        sequence = pair_token_ids.to(device)\n",
        "        attn_mask = mask_ids.to(device)\n",
        "        token_type = seg_ids.to(device)\n",
        "        label = y.to(device)\n",
        "\n",
        "\n",
        "       \n",
        "        predictions = model(sequence, attn_mask, token_type)\n",
        "        max_preds = predictions.argmax(dim = 1, keepdim = True).squeeze(1)\n",
        "        # print(\"max_preds:\",max_preds)\n",
        "        correct = (max_preds==label).float()\n",
        "        acc = correct.sum() / len(label)\n",
        "\n",
        "        # print(\"max_preds :\",max_preds )\n",
        "        \n",
        "        pred.extend(max_preds.tolist())\n",
        "        labels.extend(label.tolist())\n",
        "       \n",
        "        \n",
        "        loss = criterion(predictions, label)\n",
        "        # print(\"loss :\",loss )\n",
        "        \n",
        "      \n",
        "        loss.backward()\n",
        "        optimizer.step()\n",
        "        \n",
        "\n",
        "        epoch_loss += loss.item()\n",
        "        epoch_acc += acc.item()\n",
        "\n",
        "\n",
        "    return epoch_loss / len(iterator), epoch_acc / len(iterator), pred, labels"
      ]
    },
    {
      "cell_type": "code",
      "execution_count": 14,
      "metadata": {
        "id": "6yUvo226AQ-j"
      },
      "outputs": [],
      "source": [
        "def evaluate(model, iterator, optimizer, criterion, flag_test_f):\n",
        "    #print(iterator)\n",
        "    epoch_loss = 0\n",
        "    epoch_acc = 0\n",
        "    pred = []\n",
        "    labels = []\n",
        "\n",
        "    model.eval()\n",
        "    \n",
        "    with torch.no_grad():\n",
        "    \n",
        "        for batch_idx, (pair_token_ids, mask_ids, seg_ids, y) in enumerate(iterator):\n",
        "            #print(batch)\n",
        "\n",
        "            sequence = pair_token_ids.to(device)\n",
        "            attn_mask = mask_ids.to(device)\n",
        "            token_type = seg_ids.to(device)\n",
        "            label = y.to(device)\n",
        "\n",
        "            predictions = model(sequence, attn_mask, token_type)\n",
        "            max_preds = predictions.argmax(dim = 1, keepdim = True).squeeze(1)\n",
        "            correct = (max_preds==label).float()\n",
        "            acc = correct.sum() / len(label)\n",
        "\n",
        "            pred.extend(max_preds.tolist())\n",
        "            labels.extend(label.tolist())\n",
        "\n",
        "            loss = criterion(predictions, label)\n",
        "           \n",
        "            epoch_loss += loss.item()\n",
        "            epoch_acc += acc.item()\n",
        "\n",
        "        if flag_test_f == True:\n",
        "\n",
        "          print(f\"F1_score: {f1_score(pred,labels, average='weighted') :.4f}\")\n",
        "          print(\"test_confusion_matrix:\\n\", confusion_matrix(pred,labels))\n",
        "\n",
        "\n",
        "        \n",
        "    return epoch_loss / len(iterator), epoch_acc / len(iterator), pred, labels "
      ]
    },
    {
      "cell_type": "markdown",
      "metadata": {
        "id": "hiQpR1TEeHco"
      },
      "source": [
        "   \n",
        "      \n",
        "        print(f\"F1_score: {f1_score(pred,labels, average='weighted') :.4f}\")\n",
        "        print(\"test_confusion_matrix:\\n\", confusion_matrix(pred,labels))"
      ]
    },
    {
      "cell_type": "code",
      "execution_count": 14,
      "metadata": {
        "id": "yDg2CDHIeGar"
      },
      "outputs": [],
      "source": []
    },
    {
      "cell_type": "code",
      "execution_count": 15,
      "metadata": {
        "id": "BEuQzw5eAYsI"
      },
      "outputs": [],
      "source": [
        "def runn(FarsTail_dataset, model, optimizer, criterion, epochs, batch_size, flag_test, flag_test_f, flag_val, flag_train):\n",
        "\n",
        "\n",
        "  N_EPOCHS = epochs\n",
        "\n",
        "  batch_size  = batch_size\n",
        "\n",
        "  train_loader, val_loader, test_loader = FarsTail_dataset.get_data_loaders(batch_size= batch_size)\n",
        "\n",
        "  dict_save = {\"train_acc\":[], \"train_loss\":[], \"val_acc\":[], \"val_loss\":[], \"test_acc\":[], \"test_loss\":[]}\n",
        "\n",
        "  for epoch in range(N_EPOCHS):\n",
        "\n",
        "      if flag_train == True : \n",
        "\n",
        "        train_loss, train_acc, _, _ = train(model, train_loader, optimizer, criterion)\n",
        "        dict_save['train_acc'].append(train_acc)\n",
        "        dict_save['train_loss'].append(train_loss)\n",
        "\n",
        "        print(f\"Train: Epoch {epoch+1}, Loss: {train_loss:.4f}, Accuracy: {train_acc:.4f}\")\n",
        "\n",
        "      if flag_val == True:\n",
        "\n",
        "        valid_loss, valid_acc, pred, labels = evaluate(model, val_loader, optimizer, criterion, flag_test_f )\n",
        "        dict_save['val_acc'].append(valid_acc)\n",
        "        dict_save['val_loss'].append(valid_loss)\n",
        "        print(f\"Validation: Epoch {epoch+1}, Loss: {valid_loss:.4f}, Accuracy: {valid_acc:.4f}\")\n",
        "\n",
        "\n",
        "      if flag_test == True:\n",
        "        test_loss, test_acc, pred, labels = evaluate(model, test_loader, optimizer, criterion, flag_test_f)\n",
        "        dict_save['test_acc'].append(test_acc)\n",
        "        dict_save['test_loss'].append(test_loss)\n",
        "        print(f\"Test: Epoch {epoch+1}, Loss: {test_loss:.4f}, Accuracy: {test_acc:.4f}\")\n",
        "\n",
        "\n",
        "   \n",
        "      print('------------------------------------------------------------------------')\n",
        "\n",
        "  return dict_save\n"
      ]
    },
    {
      "cell_type": "code",
      "execution_count": 16,
      "metadata": {
        "colab": {
          "base_uri": "https://localhost:8080/",
          "height": 102,
          "referenced_widgets": [
            "413da2526c55490e933c398a0ae93698",
            "6d346cc5761f44f18f13f00685131761",
            "6deb6fbe54494c2a93ac5d8d0999be44",
            "2520b5ce89374365a477b3fca74febc8",
            "5fde41cc53514ec886e2d856f4c3c3c4",
            "e09bd3ca2419421aafda2e5047e5ed24",
            "59b841d65dc645cd87c01e397b110977",
            "bf051988b4ab4776a0fdad27244238f1",
            "194e1f8f6b9f42a6992189bb3e8acfe8",
            "e5a97638360141ce9bf2211ba30a0bf1",
            "324c4518b8524d3d8252324289202e1f"
          ]
        },
        "id": "-lj_aUx5BsJy",
        "outputId": "f287d801-beb4-468b-c2ff-d7fdffd42704"
      },
      "outputs": [
        {
          "output_type": "display_data",
          "data": {
            "text/plain": [
              "Downloading (…)solve/main/vocab.txt:   0%|          | 0.00/1.22M [00:00<?, ?B/s]"
            ],
            "application/vnd.jupyter.widget-view+json": {
              "version_major": 2,
              "version_minor": 0,
              "model_id": "413da2526c55490e933c398a0ae93698"
            }
          },
          "metadata": {}
        },
        {
          "output_type": "stream",
          "name": "stdout",
          "text": [
            "7266\n",
            "1537\n",
            "1564\n"
          ]
        }
      ],
      "source": [
        "FarsTail_dataset = FarsTailDataBert(train_df, val_df, test_df)"
      ]
    },
    {
      "cell_type": "markdown",
      "metadata": {
        "id": "ZKj7oz8SocdC"
      },
      "source": [
        "## task2"
      ]
    },
    {
      "cell_type": "code",
      "execution_count": null,
      "metadata": {
        "colab": {
          "base_uri": "https://localhost:8080/"
        },
        "id": "mlwUndAQBsi-",
        "outputId": "33ae6582-4603-4923-8d72-c6cd5fa737d8"
      },
      "outputs": [
        {
          "name": "stderr",
          "output_type": "stream",
          "text": [
            "Some weights of the model checkpoint at HooshvareLab/bert-base-parsbert-uncased were not used when initializing BertModel: ['cls.predictions.transform.LayerNorm.weight', 'cls.predictions.bias', 'cls.seq_relationship.weight', 'cls.seq_relationship.bias', 'cls.predictions.decoder.bias', 'cls.predictions.transform.LayerNorm.bias', 'cls.predictions.decoder.weight', 'cls.predictions.transform.dense.bias', 'cls.predictions.transform.dense.weight']\n",
            "- This IS expected if you are initializing BertModel from the checkpoint of a model trained on another task or with another architecture (e.g. initializing a BertForSequenceClassification model from a BertForPreTraining model).\n",
            "- This IS NOT expected if you are initializing BertModel from the checkpoint of a model that you expect to be exactly identical (initializing a BertForSequenceClassification model from a BertForSequenceClassification model).\n"
          ]
        },
        {
          "name": "stdout",
          "output_type": "stream",
          "text": [
            "Train: Epoch 1, Loss: 1.1048, Accuracy: 0.3518\n",
            "Validation: Epoch 1, Loss: 1.0673, Accuracy: 0.3499\n",
            "------------------------------------------------------------------------\n",
            "Train: Epoch 2, Loss: 0.9837, Accuracy: 0.4868\n",
            "Validation: Epoch 2, Loss: 0.9158, Accuracy: 0.5367\n",
            "------------------------------------------------------------------------\n",
            "Train: Epoch 3, Loss: 0.9051, Accuracy: 0.5490\n",
            "Validation: Epoch 3, Loss: 0.8748, Accuracy: 0.5657\n",
            "------------------------------------------------------------------------\n",
            "Train: Epoch 4, Loss: 0.8861, Accuracy: 0.5673\n",
            "Validation: Epoch 4, Loss: 0.8781, Accuracy: 0.5722\n",
            "------------------------------------------------------------------------\n",
            "Train: Epoch 5, Loss: 0.8644, Accuracy: 0.5754\n",
            "Validation: Epoch 5, Loss: 0.8554, Accuracy: 0.5715\n",
            "------------------------------------------------------------------------\n",
            "Train: Epoch 6, Loss: 0.8508, Accuracy: 0.5834\n",
            "Validation: Epoch 6, Loss: 0.8297, Accuracy: 0.6044\n",
            "------------------------------------------------------------------------\n",
            "Train: Epoch 7, Loss: 0.8373, Accuracy: 0.5966\n",
            "Validation: Epoch 7, Loss: 0.8159, Accuracy: 0.6037\n",
            "------------------------------------------------------------------------\n",
            "Train: Epoch 8, Loss: 0.8258, Accuracy: 0.5962\n",
            "Validation: Epoch 8, Loss: 0.8173, Accuracy: 0.6166\n",
            "------------------------------------------------------------------------\n",
            "Train: Epoch 9, Loss: 0.8060, Accuracy: 0.6183\n",
            "Validation: Epoch 9, Loss: 0.8143, Accuracy: 0.6289\n",
            "------------------------------------------------------------------------\n",
            "Train: Epoch 10, Loss: 0.7940, Accuracy: 0.6165\n",
            "Validation: Epoch 10, Loss: 0.7957, Accuracy: 0.6392\n",
            "------------------------------------------------------------------------\n",
            "=> Saving checkpoint\n"
          ]
        }
      ],
      "source": [
        "model = BERTNLIModel().to(device)\n",
        "for param in model.bert.parameters():\n",
        "  param.requires_grad = False\n",
        " \n",
        "optimizer = optim.AdamW(model.parameters(),lr=2e-5,eps=1e-6)\n",
        "criterion = nn.CrossEntropyLoss().to(device)\n",
        "\n",
        "dict_s = runn(FarsTail_dataset, model, optimizer, criterion, epochs = 10, batch_size = 16, flag_test = False, flag_test_f = False, flag_val = True, flag_train = True)\n"
      ]
    },
    {
      "cell_type": "code",
      "execution_count": 20,
      "metadata": {
        "id": "0jHs7-t68BRo"
      },
      "outputs": [],
      "source": [
        "def save_checkpoint(state, filename):\n",
        "    model_save_name = filename\n",
        "    path = F\"/content/drive/MyDrive/{model_save_name}\" \n",
        "    print(\"=> Saving checkpoint\")\n",
        "    torch.save(state, path)\n",
        "\n",
        "\n",
        "def load_checkpoint(checkpoint,model):\n",
        "    print(\"=> Loading checkpoint\")\n",
        "    model.load_state_dict(checkpoint[\"state_dict\"])\n",
        "    list_acc_loss = checkpoint[\"dict_ss\"]\n",
        "    return model, list_acc_loss"
      ]
    },
    {
      "cell_type": "code",
      "execution_count": null,
      "metadata": {
        "colab": {
          "base_uri": "https://localhost:8080/"
        },
        "id": "eGLnGaINc3lX",
        "outputId": "278d4adc-be5a-41c9-c28a-b5f30c483c15"
      },
      "outputs": [
        {
          "name": "stdout",
          "output_type": "stream",
          "text": [
            "=> Saving checkpoint\n"
          ]
        }
      ],
      "source": [
        "checkpoint_name = \"my_checkpoint_tamrin4_nlp_q1_task2.pth.tar\"\n",
        "\n",
        "checkpoint = {'state_dict' : model.state_dict(),\n",
        "              'dict_ss' : dict_s}\n",
        "save_checkpoint(checkpoint, filename=checkpoint_name)"
      ]
    },
    {
      "cell_type": "code",
      "execution_count": null,
      "metadata": {
        "id": "bcasJH9VDc6-"
      },
      "outputs": [],
      "source": [
        "\n",
        "def plott(a,b,title,y_label, x_size): \n",
        "\n",
        "    #plt.figure(figsize=(25,8))\n",
        "    plt.plot(range(0,x_size), a, color='r', label='train')\n",
        "    plt.plot(range(0,x_size), b, color='b', label=\"val.\")\n",
        "    plt.xlabel(\"Epochs\")\n",
        "    plt.ylabel(y_label)\n",
        "    plt.title(title)\n",
        "    plt.legend()\n",
        "    plt.show()"
      ]
    },
    {
      "cell_type": "code",
      "execution_count": null,
      "metadata": {
        "id": "tRMzIDvtdK2p"
      },
      "outputs": [],
      "source": []
    },
    {
      "cell_type": "code",
      "execution_count": null,
      "metadata": {
        "colab": {
          "base_uri": "https://localhost:8080/",
          "height": 927
        },
        "id": "rHtNOEFKT6VF",
        "outputId": "c1c6cd6c-e5fb-4d5e-aa2d-45cc88b2178d"
      },
      "outputs": [
        {
          "data": {
            "image/png": "[encoded data removed]",
            "text/plain": [
              "<Figure size 640x480 with 1 Axes>"
            ]
          },
          "metadata": {},
          "output_type": "display_data"
        },
        {
          "data": {
            "image/png": "[encoded data removed]",
            "text/plain": [
              "<Figure size 640x480 with 1 Axes>"
            ]
          },
          "metadata": {},
          "output_type": "display_data"
        }
      ],
      "source": [
        "plott(dict_s['train_acc'], dict_s['val_acc'], \"accuracy in epochs\", \"accuracy\", len(dict_s['val_acc']))\n",
        "plott(dict_s['train_loss'], dict_s['val_loss'], \"loss in epochs\", \"loss\", len(dict_s['train_loss']))"
      ]
    },
    {
      "cell_type": "code",
      "execution_count": null,
      "metadata": {
        "colab": {
          "base_uri": "https://localhost:8080/"
        },
        "id": "_PSzoC0DBRLc",
        "outputId": "49d7d52b-936b-4b38-a616-805c851582c5"
      },
      "outputs": [
        {
          "name": "stdout",
          "output_type": "stream",
          "text": [
            "F1_score: 0.6503\n",
            "test_confusion_matrix:\n",
            " [[357 186  18]\n",
            " [111 214  84]\n",
            " [ 51 110 433]]\n",
            "Test: Epoch 1, Loss: 0.7877, Accuracy: 0.6416\n",
            "------------------------------------------------------------------------\n",
            "F1_score: 0.6444\n",
            "test_confusion_matrix:\n",
            " [[359 196  19]\n",
            " [118 198  81]\n",
            " [ 42 116 435]]\n",
            "Test: Epoch 2, Loss: 0.7764, Accuracy: 0.6346\n",
            "------------------------------------------------------------------------\n",
            "F1_score: 0.6465\n",
            "test_confusion_matrix:\n",
            " [[353 193  20]\n",
            " [122 209  79]\n",
            " [ 44 108 436]]\n",
            "Test: Epoch 3, Loss: 0.7836, Accuracy: 0.6386\n",
            "------------------------------------------------------------------------\n",
            "F1_score: 0.6525\n",
            "test_confusion_matrix:\n",
            " [[364 183  21]\n",
            " [117 210  81]\n",
            " [ 38 117 433]]\n",
            "Test: Epoch 4, Loss: 0.7822, Accuracy: 0.6443\n",
            "------------------------------------------------------------------------\n",
            "F1_score: 0.6459\n",
            "test_confusion_matrix:\n",
            " [[358 190  22]\n",
            " [116 200  77]\n",
            " [ 45 120 436]]\n",
            "Test: Epoch 5, Loss: 0.7840, Accuracy: 0.6361\n",
            "------------------------------------------------------------------------\n",
            "F1_score: 0.6536\n",
            "test_confusion_matrix:\n",
            " [[361 184  28]\n",
            " [112 215  74]\n",
            " [ 46 111 433]]\n",
            "Test: Epoch 6, Loss: 0.7824, Accuracy: 0.6456\n",
            "------------------------------------------------------------------------\n",
            "F1_score: 0.6467\n",
            "test_confusion_matrix:\n",
            " [[351 187  23]\n",
            " [127 209  74]\n",
            " [ 41 114 438]]\n",
            "Test: Epoch 7, Loss: 0.7837, Accuracy: 0.6382\n",
            "------------------------------------------------------------------------\n",
            "F1_score: 0.6511\n",
            "test_confusion_matrix:\n",
            " [[366 193  21]\n",
            " [109 204  81]\n",
            " [ 44 113 433]]\n",
            "Test: Epoch 8, Loss: 0.7834, Accuracy: 0.6418\n",
            "------------------------------------------------------------------------\n",
            "F1_score: 0.6467\n",
            "test_confusion_matrix:\n",
            " [[356 193  20]\n",
            " [115 209  82]\n",
            " [ 48 108 433]]\n",
            "Test: Epoch 9, Loss: 0.7830, Accuracy: 0.6384\n",
            "------------------------------------------------------------------------\n",
            "F1_score: 0.6467\n",
            "test_confusion_matrix:\n",
            " [[360 196  21]\n",
            " [116 198  77]\n",
            " [ 43 116 437]]\n",
            "Test: Epoch 10, Loss: 0.7871, Accuracy: 0.6365\n",
            "------------------------------------------------------------------------\n"
          ]
        }
      ],
      "source": [
        "dict_s_test = runn(FarsTail_dataset, model, optimizer, criterion, epochs = 10, batch_size = 16, flag_test = True, flag_test_f = True, flag_val = False, flag_train = False)"
      ]
    },
    {
      "cell_type": "markdown",
      "metadata": {
        "id": "qzI_1LyNoOkw"
      },
      "source": [
        "## task3"
      ]
    },
    {
      "cell_type": "code",
      "execution_count": null,
      "metadata": {
        "id": "2y0mq3AaiRkc"
      },
      "outputs": [],
      "source": [
        "def delete_each_layer(layer_num):\n",
        "\n",
        "  model = BERTNLIModel().to(device)\n",
        "\n",
        "  del model.bert.encoder.layer[layer_num]\n",
        "\n",
        "  for param in model.bert.parameters():\n",
        "    param.requires_grad = False\n",
        "\n",
        "  optimizer = optim.AdamW(model.parameters(),lr=2e-5,eps=1e-6)\n",
        "  criterion = nn.CrossEntropyLoss().to(device)\n",
        "\n",
        "\n",
        "  dict_s = runn(FarsTail_dataset, model, optimizer, criterion, epochs = 10, batch_size = 16,\n",
        "                flag_test = False, flag_test_f = False, flag_val = False, flag_train = True)\n",
        "  print(\"finish model training without layer :\", layer_num)\n",
        "\n",
        "  test_loss, test_acc, pred, labels = evaluate(model, test_loader, optimizer, criterion, flag_test_f = False)\n",
        "  \n",
        "\n",
        "  return test_acc\n",
        "\n"
      ]
    },
    {
      "cell_type": "code",
      "execution_count": null,
      "metadata": {
        "colab": {
          "base_uri": "https://localhost:8080/"
        },
        "id": "JqvQxedmKsQQ",
        "outputId": "67bff932-dc36-4a25-c2c2-fe2312d59da9"
      },
      "outputs": [
        {
          "name": "stderr",
          "output_type": "stream",
          "text": [
            "Some weights of the model checkpoint at HooshvareLab/bert-base-parsbert-uncased were not used when initializing BertModel: ['cls.predictions.transform.dense.bias', 'cls.predictions.bias', 'cls.predictions.decoder.bias', 'cls.predictions.transform.dense.weight', 'cls.predictions.transform.LayerNorm.bias', 'cls.predictions.transform.LayerNorm.weight', 'cls.predictions.decoder.weight', 'cls.seq_relationship.bias', 'cls.seq_relationship.weight']\n",
            "- This IS expected if you are initializing BertModel from the checkpoint of a model trained on another task or with another architecture (e.g. initializing a BertForSequenceClassification model from a BertForPreTraining model).\n",
            "- This IS NOT expected if you are initializing BertModel from the checkpoint of a model that you expect to be exactly identical (initializing a BertForSequenceClassification model from a BertForSequenceClassification model).\n"
          ]
        },
        {
          "name": "stdout",
          "output_type": "stream",
          "text": [
            "Train: Epoch 1, Loss: 1.0944, Accuracy: 0.3648\n",
            "------------------------------------------------------------------------\n",
            "Train: Epoch 2, Loss: 0.9735, Accuracy: 0.4986\n",
            "------------------------------------------------------------------------\n",
            "Train: Epoch 3, Loss: 0.9128, Accuracy: 0.5408\n",
            "------------------------------------------------------------------------\n",
            "Train: Epoch 4, Loss: 0.8967, Accuracy: 0.5496\n",
            "------------------------------------------------------------------------\n",
            "Train: Epoch 5, Loss: 0.8861, Accuracy: 0.5587\n",
            "------------------------------------------------------------------------\n",
            "Train: Epoch 6, Loss: 0.8713, Accuracy: 0.5707\n",
            "------------------------------------------------------------------------\n",
            "Train: Epoch 7, Loss: 0.8610, Accuracy: 0.5728\n",
            "------------------------------------------------------------------------\n",
            "Train: Epoch 8, Loss: 0.8446, Accuracy: 0.5821\n",
            "------------------------------------------------------------------------\n",
            "Train: Epoch 9, Loss: 0.8379, Accuracy: 0.5872\n",
            "------------------------------------------------------------------------\n",
            "Train: Epoch 10, Loss: 0.8234, Accuracy: 0.5984\n",
            "------------------------------------------------------------------------\n",
            "finish model training without layer : 0\n",
            "=> Saving checkpoint\n"
          ]
        },
        {
          "name": "stderr",
          "output_type": "stream",
          "text": [
            "Some weights of the model checkpoint at HooshvareLab/bert-base-parsbert-uncased were not used when initializing BertModel: ['cls.predictions.transform.dense.bias', 'cls.predictions.bias', 'cls.predictions.decoder.bias', 'cls.predictions.transform.dense.weight', 'cls.predictions.transform.LayerNorm.bias', 'cls.predictions.transform.LayerNorm.weight', 'cls.predictions.decoder.weight', 'cls.seq_relationship.bias', 'cls.seq_relationship.weight']\n",
            "- This IS expected if you are initializing BertModel from the checkpoint of a model trained on another task or with another architecture (e.g. initializing a BertForSequenceClassification model from a BertForPreTraining model).\n",
            "- This IS NOT expected if you are initializing BertModel from the checkpoint of a model that you expect to be exactly identical (initializing a BertForSequenceClassification model from a BertForSequenceClassification model).\n"
          ]
        },
        {
          "name": "stdout",
          "output_type": "stream",
          "text": [
            "Train: Epoch 1, Loss: 1.1056, Accuracy: 0.3466\n",
            "------------------------------------------------------------------------\n",
            "Train: Epoch 2, Loss: 0.9853, Accuracy: 0.4900\n",
            "------------------------------------------------------------------------\n",
            "Train: Epoch 3, Loss: 0.9149, Accuracy: 0.5490\n",
            "------------------------------------------------------------------------\n",
            "Train: Epoch 4, Loss: 0.8847, Accuracy: 0.5596\n",
            "------------------------------------------------------------------------\n",
            "Train: Epoch 5, Loss: 0.8739, Accuracy: 0.5684\n",
            "------------------------------------------------------------------------\n",
            "Train: Epoch 6, Loss: 0.8578, Accuracy: 0.5743\n",
            "------------------------------------------------------------------------\n",
            "Train: Epoch 7, Loss: 0.8507, Accuracy: 0.5805\n",
            "------------------------------------------------------------------------\n",
            "Train: Epoch 8, Loss: 0.8415, Accuracy: 0.5860\n",
            "------------------------------------------------------------------------\n",
            "Train: Epoch 9, Loss: 0.8232, Accuracy: 0.5959\n",
            "------------------------------------------------------------------------\n",
            "Train: Epoch 10, Loss: 0.8048, Accuracy: 0.6100\n",
            "------------------------------------------------------------------------\n",
            "finish model training without layer : 1\n",
            "=> Saving checkpoint\n"
          ]
        },
        {
          "name": "stderr",
          "output_type": "stream",
          "text": [
            "Some weights of the model checkpoint at HooshvareLab/bert-base-parsbert-uncased were not used when initializing BertModel: ['cls.predictions.transform.dense.bias', 'cls.predictions.bias', 'cls.predictions.decoder.bias', 'cls.predictions.transform.dense.weight', 'cls.predictions.transform.LayerNorm.bias', 'cls.predictions.transform.LayerNorm.weight', 'cls.predictions.decoder.weight', 'cls.seq_relationship.bias', 'cls.seq_relationship.weight']\n",
            "- This IS expected if you are initializing BertModel from the checkpoint of a model trained on another task or with another architecture (e.g. initializing a BertForSequenceClassification model from a BertForPreTraining model).\n",
            "- This IS NOT expected if you are initializing BertModel from the checkpoint of a model that you expect to be exactly identical (initializing a BertForSequenceClassification model from a BertForSequenceClassification model).\n"
          ]
        },
        {
          "name": "stdout",
          "output_type": "stream",
          "text": [
            "Train: Epoch 1, Loss: 1.1089, Accuracy: 0.3379\n",
            "------------------------------------------------------------------------\n",
            "Train: Epoch 2, Loss: 1.0876, Accuracy: 0.3716\n",
            "------------------------------------------------------------------------\n",
            "Train: Epoch 3, Loss: 0.9964, Accuracy: 0.4804\n",
            "------------------------------------------------------------------------\n",
            "Train: Epoch 4, Loss: 0.9516, Accuracy: 0.5125\n",
            "------------------------------------------------------------------------\n",
            "Train: Epoch 5, Loss: 0.9363, Accuracy: 0.5221\n",
            "------------------------------------------------------------------------\n",
            "Train: Epoch 6, Loss: 0.9243, Accuracy: 0.5298\n",
            "------------------------------------------------------------------------\n",
            "Train: Epoch 7, Loss: 0.9078, Accuracy: 0.5525\n",
            "------------------------------------------------------------------------\n",
            "Train: Epoch 8, Loss: 0.8891, Accuracy: 0.5607\n",
            "------------------------------------------------------------------------\n",
            "Train: Epoch 9, Loss: 0.8848, Accuracy: 0.5607\n",
            "------------------------------------------------------------------------\n",
            "Train: Epoch 10, Loss: 0.8741, Accuracy: 0.5764\n",
            "------------------------------------------------------------------------\n",
            "finish model training without layer : 2\n",
            "=> Saving checkpoint\n"
          ]
        },
        {
          "name": "stderr",
          "output_type": "stream",
          "text": [
            "Some weights of the model checkpoint at HooshvareLab/bert-base-parsbert-uncased were not used when initializing BertModel: ['cls.predictions.transform.dense.bias', 'cls.predictions.bias', 'cls.predictions.decoder.bias', 'cls.predictions.transform.dense.weight', 'cls.predictions.transform.LayerNorm.bias', 'cls.predictions.transform.LayerNorm.weight', 'cls.predictions.decoder.weight', 'cls.seq_relationship.bias', 'cls.seq_relationship.weight']\n",
            "- This IS expected if you are initializing BertModel from the checkpoint of a model trained on another task or with another architecture (e.g. initializing a BertForSequenceClassification model from a BertForPreTraining model).\n",
            "- This IS NOT expected if you are initializing BertModel from the checkpoint of a model that you expect to be exactly identical (initializing a BertForSequenceClassification model from a BertForSequenceClassification model).\n"
          ]
        },
        {
          "name": "stdout",
          "output_type": "stream",
          "text": [
            "Train: Epoch 1, Loss: 1.1081, Accuracy: 0.3357\n",
            "------------------------------------------------------------------------\n",
            "Train: Epoch 2, Loss: 1.0903, Accuracy: 0.3687\n",
            "------------------------------------------------------------------------\n",
            "Train: Epoch 3, Loss: 0.9969, Accuracy: 0.4918\n",
            "------------------------------------------------------------------------\n",
            "Train: Epoch 4, Loss: 0.9604, Accuracy: 0.5077\n",
            "------------------------------------------------------------------------\n",
            "Train: Epoch 5, Loss: 0.9339, Accuracy: 0.5357\n",
            "------------------------------------------------------------------------\n",
            "Train: Epoch 6, Loss: 0.9194, Accuracy: 0.5387\n",
            "------------------------------------------------------------------------\n",
            "Train: Epoch 7, Loss: 0.9145, Accuracy: 0.5460\n",
            "------------------------------------------------------------------------\n",
            "Train: Epoch 8, Loss: 0.9018, Accuracy: 0.5525\n",
            "------------------------------------------------------------------------\n",
            "Train: Epoch 9, Loss: 0.9028, Accuracy: 0.5510\n",
            "------------------------------------------------------------------------\n",
            "Train: Epoch 10, Loss: 0.8817, Accuracy: 0.5674\n",
            "------------------------------------------------------------------------\n",
            "finish model training without layer : 3\n",
            "=> Saving checkpoint\n"
          ]
        },
        {
          "name": "stderr",
          "output_type": "stream",
          "text": [
            "Some weights of the model checkpoint at HooshvareLab/bert-base-parsbert-uncased were not used when initializing BertModel: ['cls.predictions.transform.dense.bias', 'cls.predictions.bias', 'cls.predictions.decoder.bias', 'cls.predictions.transform.dense.weight', 'cls.predictions.transform.LayerNorm.bias', 'cls.predictions.transform.LayerNorm.weight', 'cls.predictions.decoder.weight', 'cls.seq_relationship.bias', 'cls.seq_relationship.weight']\n",
            "- This IS expected if you are initializing BertModel from the checkpoint of a model trained on another task or with another architecture (e.g. initializing a BertForSequenceClassification model from a BertForPreTraining model).\n",
            "- This IS NOT expected if you are initializing BertModel from the checkpoint of a model that you expect to be exactly identical (initializing a BertForSequenceClassification model from a BertForSequenceClassification model).\n"
          ]
        },
        {
          "name": "stdout",
          "output_type": "stream",
          "text": [
            "Train: Epoch 1, Loss: 1.1067, Accuracy: 0.3401\n",
            "------------------------------------------------------------------------\n",
            "Train: Epoch 2, Loss: 1.0235, Accuracy: 0.4576\n",
            "------------------------------------------------------------------------\n",
            "Train: Epoch 3, Loss: 0.9468, Accuracy: 0.5276\n",
            "------------------------------------------------------------------------\n",
            "Train: Epoch 4, Loss: 0.9158, Accuracy: 0.5412\n",
            "------------------------------------------------------------------------\n",
            "Train: Epoch 5, Loss: 0.8894, Accuracy: 0.5647\n",
            "------------------------------------------------------------------------\n",
            "Train: Epoch 6, Loss: 0.8876, Accuracy: 0.5635\n",
            "------------------------------------------------------------------------\n",
            "Train: Epoch 7, Loss: 0.8648, Accuracy: 0.5809\n",
            "------------------------------------------------------------------------\n",
            "Train: Epoch 8, Loss: 0.8571, Accuracy: 0.5849\n",
            "------------------------------------------------------------------------\n",
            "Train: Epoch 9, Loss: 0.8461, Accuracy: 0.5872\n",
            "------------------------------------------------------------------------\n",
            "Train: Epoch 10, Loss: 0.8213, Accuracy: 0.6030\n",
            "------------------------------------------------------------------------\n",
            "finish model training without layer : 4\n",
            "=> Saving checkpoint\n"
          ]
        },
        {
          "name": "stderr",
          "output_type": "stream",
          "text": [
            "Some weights of the model checkpoint at HooshvareLab/bert-base-parsbert-uncased were not used when initializing BertModel: ['cls.predictions.transform.dense.bias', 'cls.predictions.bias', 'cls.predictions.decoder.bias', 'cls.predictions.transform.dense.weight', 'cls.predictions.transform.LayerNorm.bias', 'cls.predictions.transform.LayerNorm.weight', 'cls.predictions.decoder.weight', 'cls.seq_relationship.bias', 'cls.seq_relationship.weight']\n",
            "- This IS expected if you are initializing BertModel from the checkpoint of a model trained on another task or with another architecture (e.g. initializing a BertForSequenceClassification model from a BertForPreTraining model).\n",
            "- This IS NOT expected if you are initializing BertModel from the checkpoint of a model that you expect to be exactly identical (initializing a BertForSequenceClassification model from a BertForSequenceClassification model).\n"
          ]
        },
        {
          "name": "stdout",
          "output_type": "stream",
          "text": [
            "Train: Epoch 1, Loss: 1.1033, Accuracy: 0.3567\n",
            "------------------------------------------------------------------------\n",
            "Train: Epoch 2, Loss: 0.9593, Accuracy: 0.5135\n",
            "------------------------------------------------------------------------\n",
            "Train: Epoch 3, Loss: 0.8935, Accuracy: 0.5567\n",
            "------------------------------------------------------------------------\n",
            "Train: Epoch 4, Loss: 0.8645, Accuracy: 0.5780\n",
            "------------------------------------------------------------------------\n",
            "Train: Epoch 5, Loss: 0.8487, Accuracy: 0.5837\n",
            "------------------------------------------------------------------------\n",
            "Train: Epoch 6, Loss: 0.8352, Accuracy: 0.5875\n",
            "------------------------------------------------------------------------\n",
            "Train: Epoch 7, Loss: 0.8197, Accuracy: 0.6008\n",
            "------------------------------------------------------------------------\n",
            "Train: Epoch 8, Loss: 0.8041, Accuracy: 0.6125\n",
            "------------------------------------------------------------------------\n",
            "Train: Epoch 9, Loss: 0.7863, Accuracy: 0.6212\n",
            "------------------------------------------------------------------------\n",
            "Train: Epoch 10, Loss: 0.7747, Accuracy: 0.6315\n",
            "------------------------------------------------------------------------\n",
            "finish model training without layer : 5\n",
            "=> Saving checkpoint\n"
          ]
        },
        {
          "name": "stderr",
          "output_type": "stream",
          "text": [
            "Some weights of the model checkpoint at HooshvareLab/bert-base-parsbert-uncased were not used when initializing BertModel: ['cls.predictions.transform.dense.bias', 'cls.predictions.bias', 'cls.predictions.decoder.bias', 'cls.predictions.transform.dense.weight', 'cls.predictions.transform.LayerNorm.bias', 'cls.predictions.transform.LayerNorm.weight', 'cls.predictions.decoder.weight', 'cls.seq_relationship.bias', 'cls.seq_relationship.weight']\n",
            "- This IS expected if you are initializing BertModel from the checkpoint of a model trained on another task or with another architecture (e.g. initializing a BertForSequenceClassification model from a BertForPreTraining model).\n",
            "- This IS NOT expected if you are initializing BertModel from the checkpoint of a model that you expect to be exactly identical (initializing a BertForSequenceClassification model from a BertForSequenceClassification model).\n"
          ]
        },
        {
          "name": "stdout",
          "output_type": "stream",
          "text": [
            "Train: Epoch 1, Loss: 1.1064, Accuracy: 0.3402\n",
            "------------------------------------------------------------------------\n",
            "Train: Epoch 2, Loss: 0.9937, Accuracy: 0.4837\n",
            "------------------------------------------------------------------------\n",
            "Train: Epoch 3, Loss: 0.9108, Accuracy: 0.5475\n",
            "------------------------------------------------------------------------\n",
            "Train: Epoch 4, Loss: 0.8868, Accuracy: 0.5532\n",
            "------------------------------------------------------------------------\n",
            "Train: Epoch 5, Loss: 0.8629, Accuracy: 0.5685\n",
            "------------------------------------------------------------------------\n",
            "Train: Epoch 6, Loss: 0.8478, Accuracy: 0.5788\n",
            "------------------------------------------------------------------------\n",
            "Train: Epoch 7, Loss: 0.8339, Accuracy: 0.5912\n",
            "------------------------------------------------------------------------\n",
            "Train: Epoch 8, Loss: 0.8297, Accuracy: 0.5973\n",
            "------------------------------------------------------------------------\n",
            "Train: Epoch 9, Loss: 0.8106, Accuracy: 0.6080\n",
            "------------------------------------------------------------------------\n",
            "Train: Epoch 10, Loss: 0.7962, Accuracy: 0.6183\n",
            "------------------------------------------------------------------------\n",
            "finish model training without layer : 6\n",
            "=> Saving checkpoint\n"
          ]
        },
        {
          "name": "stderr",
          "output_type": "stream",
          "text": [
            "Some weights of the model checkpoint at HooshvareLab/bert-base-parsbert-uncased were not used when initializing BertModel: ['cls.predictions.transform.dense.bias', 'cls.predictions.bias', 'cls.predictions.decoder.bias', 'cls.predictions.transform.dense.weight', 'cls.predictions.transform.LayerNorm.bias', 'cls.predictions.transform.LayerNorm.weight', 'cls.predictions.decoder.weight', 'cls.seq_relationship.bias', 'cls.seq_relationship.weight']\n",
            "- This IS expected if you are initializing BertModel from the checkpoint of a model trained on another task or with another architecture (e.g. initializing a BertForSequenceClassification model from a BertForPreTraining model).\n",
            "- This IS NOT expected if you are initializing BertModel from the checkpoint of a model that you expect to be exactly identical (initializing a BertForSequenceClassification model from a BertForSequenceClassification model).\n"
          ]
        },
        {
          "name": "stdout",
          "output_type": "stream",
          "text": [
            "Train: Epoch 1, Loss: 1.1057, Accuracy: 0.3391\n",
            "------------------------------------------------------------------------\n",
            "Train: Epoch 2, Loss: 0.9951, Accuracy: 0.4848\n",
            "------------------------------------------------------------------------\n",
            "Train: Epoch 3, Loss: 0.9217, Accuracy: 0.5438\n",
            "------------------------------------------------------------------------\n",
            "Train: Epoch 4, Loss: 0.8913, Accuracy: 0.5602\n",
            "------------------------------------------------------------------------\n",
            "Train: Epoch 5, Loss: 0.8779, Accuracy: 0.5606\n",
            "------------------------------------------------------------------------\n",
            "Train: Epoch 6, Loss: 0.8511, Accuracy: 0.5797\n",
            "------------------------------------------------------------------------\n",
            "Train: Epoch 7, Loss: 0.8505, Accuracy: 0.5852\n",
            "------------------------------------------------------------------------\n",
            "Train: Epoch 8, Loss: 0.8368, Accuracy: 0.5889\n",
            "------------------------------------------------------------------------\n",
            "Train: Epoch 9, Loss: 0.8224, Accuracy: 0.5982\n",
            "------------------------------------------------------------------------\n",
            "Train: Epoch 10, Loss: 0.8138, Accuracy: 0.6059\n",
            "------------------------------------------------------------------------\n",
            "finish model training without layer : 7\n",
            "=> Saving checkpoint\n"
          ]
        },
        {
          "name": "stderr",
          "output_type": "stream",
          "text": [
            "Some weights of the model checkpoint at HooshvareLab/bert-base-parsbert-uncased were not used when initializing BertModel: ['cls.predictions.transform.dense.bias', 'cls.predictions.bias', 'cls.predictions.decoder.bias', 'cls.predictions.transform.dense.weight', 'cls.predictions.transform.LayerNorm.bias', 'cls.predictions.transform.LayerNorm.weight', 'cls.predictions.decoder.weight', 'cls.seq_relationship.bias', 'cls.seq_relationship.weight']\n",
            "- This IS expected if you are initializing BertModel from the checkpoint of a model trained on another task or with another architecture (e.g. initializing a BertForSequenceClassification model from a BertForPreTraining model).\n",
            "- This IS NOT expected if you are initializing BertModel from the checkpoint of a model that you expect to be exactly identical (initializing a BertForSequenceClassification model from a BertForSequenceClassification model).\n"
          ]
        },
        {
          "name": "stdout",
          "output_type": "stream",
          "text": [
            "Train: Epoch 1, Loss: 1.0978, Accuracy: 0.3606\n",
            "------------------------------------------------------------------------\n",
            "Train: Epoch 2, Loss: 0.9598, Accuracy: 0.5078\n",
            "------------------------------------------------------------------------\n",
            "Train: Epoch 3, Loss: 0.9045, Accuracy: 0.5570\n",
            "------------------------------------------------------------------------\n",
            "Train: Epoch 4, Loss: 0.8806, Accuracy: 0.5635\n",
            "------------------------------------------------------------------------\n",
            "Train: Epoch 5, Loss: 0.8646, Accuracy: 0.5718\n",
            "------------------------------------------------------------------------\n",
            "Train: Epoch 6, Loss: 0.8558, Accuracy: 0.5740\n",
            "------------------------------------------------------------------------\n",
            "Train: Epoch 7, Loss: 0.8459, Accuracy: 0.5897\n",
            "------------------------------------------------------------------------\n",
            "Train: Epoch 8, Loss: 0.8272, Accuracy: 0.6008\n",
            "------------------------------------------------------------------------\n",
            "Train: Epoch 9, Loss: 0.8159, Accuracy: 0.6098\n",
            "------------------------------------------------------------------------\n",
            "Train: Epoch 10, Loss: 0.8000, Accuracy: 0.6198\n",
            "------------------------------------------------------------------------\n",
            "finish model training without layer : 8\n",
            "=> Saving checkpoint\n"
          ]
        },
        {
          "name": "stderr",
          "output_type": "stream",
          "text": [
            "Some weights of the model checkpoint at HooshvareLab/bert-base-parsbert-uncased were not used when initializing BertModel: ['cls.predictions.transform.dense.bias', 'cls.predictions.bias', 'cls.predictions.decoder.bias', 'cls.predictions.transform.dense.weight', 'cls.predictions.transform.LayerNorm.bias', 'cls.predictions.transform.LayerNorm.weight', 'cls.predictions.decoder.weight', 'cls.seq_relationship.bias', 'cls.seq_relationship.weight']\n",
            "- This IS expected if you are initializing BertModel from the checkpoint of a model trained on another task or with another architecture (e.g. initializing a BertForSequenceClassification model from a BertForPreTraining model).\n",
            "- This IS NOT expected if you are initializing BertModel from the checkpoint of a model that you expect to be exactly identical (initializing a BertForSequenceClassification model from a BertForSequenceClassification model).\n"
          ]
        },
        {
          "name": "stdout",
          "output_type": "stream",
          "text": [
            "Train: Epoch 1, Loss: 1.1059, Accuracy: 0.3493\n",
            "------------------------------------------------------------------------\n",
            "Train: Epoch 2, Loss: 1.0027, Accuracy: 0.4750\n",
            "------------------------------------------------------------------------\n",
            "Train: Epoch 3, Loss: 0.9165, Accuracy: 0.5438\n",
            "------------------------------------------------------------------------\n",
            "Train: Epoch 4, Loss: 0.8888, Accuracy: 0.5556\n",
            "------------------------------------------------------------------------\n",
            "Train: Epoch 5, Loss: 0.8595, Accuracy: 0.5798\n",
            "------------------------------------------------------------------------\n",
            "Train: Epoch 6, Loss: 0.8522, Accuracy: 0.5839\n",
            "------------------------------------------------------------------------\n",
            "Train: Epoch 7, Loss: 0.8426, Accuracy: 0.5940\n",
            "------------------------------------------------------------------------\n",
            "Train: Epoch 8, Loss: 0.8269, Accuracy: 0.6010\n",
            "------------------------------------------------------------------------\n",
            "Train: Epoch 9, Loss: 0.8183, Accuracy: 0.6037\n",
            "------------------------------------------------------------------------\n",
            "Train: Epoch 10, Loss: 0.8055, Accuracy: 0.6173\n",
            "------------------------------------------------------------------------\n",
            "finish model training without layer : 9\n",
            "=> Saving checkpoint\n"
          ]
        },
        {
          "name": "stderr",
          "output_type": "stream",
          "text": [
            "Some weights of the model checkpoint at HooshvareLab/bert-base-parsbert-uncased were not used when initializing BertModel: ['cls.predictions.transform.dense.bias', 'cls.predictions.bias', 'cls.predictions.decoder.bias', 'cls.predictions.transform.dense.weight', 'cls.predictions.transform.LayerNorm.bias', 'cls.predictions.transform.LayerNorm.weight', 'cls.predictions.decoder.weight', 'cls.seq_relationship.bias', 'cls.seq_relationship.weight']\n",
            "- This IS expected if you are initializing BertModel from the checkpoint of a model trained on another task or with another architecture (e.g. initializing a BertForSequenceClassification model from a BertForPreTraining model).\n",
            "- This IS NOT expected if you are initializing BertModel from the checkpoint of a model that you expect to be exactly identical (initializing a BertForSequenceClassification model from a BertForSequenceClassification model).\n"
          ]
        },
        {
          "name": "stdout",
          "output_type": "stream",
          "text": [
            "Train: Epoch 1, Loss: 1.1019, Accuracy: 0.3578\n",
            "------------------------------------------------------------------------\n",
            "Train: Epoch 2, Loss: 0.9449, Accuracy: 0.5196\n",
            "------------------------------------------------------------------------\n",
            "Train: Epoch 3, Loss: 0.8838, Accuracy: 0.5676\n",
            "------------------------------------------------------------------------\n",
            "Train: Epoch 4, Loss: 0.8580, Accuracy: 0.5842\n",
            "------------------------------------------------------------------------\n",
            "Train: Epoch 5, Loss: 0.8421, Accuracy: 0.5854\n",
            "------------------------------------------------------------------------\n",
            "Train: Epoch 6, Loss: 0.8324, Accuracy: 0.5898\n",
            "------------------------------------------------------------------------\n",
            "Train: Epoch 7, Loss: 0.8205, Accuracy: 0.5960\n",
            "------------------------------------------------------------------------\n",
            "Train: Epoch 8, Loss: 0.7989, Accuracy: 0.6140\n",
            "------------------------------------------------------------------------\n",
            "Train: Epoch 9, Loss: 0.7828, Accuracy: 0.6214\n",
            "------------------------------------------------------------------------\n",
            "Train: Epoch 10, Loss: 0.7697, Accuracy: 0.6350\n",
            "------------------------------------------------------------------------\n",
            "finish model training without layer : 10\n",
            "=> Saving checkpoint\n"
          ]
        },
        {
          "name": "stderr",
          "output_type": "stream",
          "text": [
            "Some weights of the model checkpoint at HooshvareLab/bert-base-parsbert-uncased were not used when initializing BertModel: ['cls.predictions.transform.dense.bias', 'cls.predictions.bias', 'cls.predictions.decoder.bias', 'cls.predictions.transform.dense.weight', 'cls.predictions.transform.LayerNorm.bias', 'cls.predictions.transform.LayerNorm.weight', 'cls.predictions.decoder.weight', 'cls.seq_relationship.bias', 'cls.seq_relationship.weight']\n",
            "- This IS expected if you are initializing BertModel from the checkpoint of a model trained on another task or with another architecture (e.g. initializing a BertForSequenceClassification model from a BertForPreTraining model).\n",
            "- This IS NOT expected if you are initializing BertModel from the checkpoint of a model that you expect to be exactly identical (initializing a BertForSequenceClassification model from a BertForSequenceClassification model).\n"
          ]
        },
        {
          "name": "stdout",
          "output_type": "stream",
          "text": [
            "Train: Epoch 1, Loss: 1.1044, Accuracy: 0.3448\n",
            "------------------------------------------------------------------------\n",
            "Train: Epoch 2, Loss: 0.9672, Accuracy: 0.5058\n",
            "------------------------------------------------------------------------\n",
            "Train: Epoch 3, Loss: 0.8870, Accuracy: 0.5643\n",
            "------------------------------------------------------------------------\n",
            "Train: Epoch 4, Loss: 0.8683, Accuracy: 0.5732\n",
            "------------------------------------------------------------------------\n",
            "Train: Epoch 5, Loss: 0.8543, Accuracy: 0.5823\n",
            "------------------------------------------------------------------------\n",
            "Train: Epoch 6, Loss: 0.8438, Accuracy: 0.5865\n",
            "------------------------------------------------------------------------\n",
            "Train: Epoch 7, Loss: 0.8314, Accuracy: 0.5982\n",
            "------------------------------------------------------------------------\n",
            "Train: Epoch 8, Loss: 0.8149, Accuracy: 0.6032\n",
            "------------------------------------------------------------------------\n",
            "Train: Epoch 9, Loss: 0.7966, Accuracy: 0.6198\n",
            "------------------------------------------------------------------------\n",
            "Train: Epoch 10, Loss: 0.7882, Accuracy: 0.6262\n",
            "------------------------------------------------------------------------\n",
            "finish model training without layer : 11\n",
            "=> Saving checkpoint\n"
          ]
        }
      ],
      "source": [
        "for i in range(12):\n",
        "\n",
        "  checkpoint_name = \"my_checkpoint_tamrin4_nlp_q1_task3_layer\" + str(i) +\".pth.tar\"\n",
        "  path = F\"/content/drive/My Drive/{checkpoint_name}\" \n",
        "\n",
        "  test_acc_layer = delete_each_layer(i)\n",
        "  \n",
        "  checkpoint = {'test_acc_list' : test_acc_layer}\n",
        "  save_checkpoint(checkpoint, filename= checkpoint_name)"
      ]
    },
    {
      "cell_type": "code",
      "execution_count": null,
      "metadata": {
        "colab": {
          "base_uri": "https://localhost:8080/"
        },
        "id": "gA5M8fL82JiS",
        "outputId": "e4adeb29-568d-4967-d448-0b345d3bf9b0"
      },
      "outputs": [
        {
          "name": "stdout",
          "output_type": "stream",
          "text": [
            "=> Loading checkpoint\n",
            "=> Loading checkpoint\n",
            "=> Loading checkpoint\n",
            "=> Loading checkpoint\n",
            "=> Loading checkpoint\n",
            "=> Loading checkpoint\n",
            "=> Loading checkpoint\n",
            "=> Loading checkpoint\n",
            "=> Loading checkpoint\n",
            "=> Loading checkpoint\n",
            "=> Loading checkpoint\n",
            "=> Loading checkpoint\n"
          ]
        }
      ],
      "source": [
        "acc_layers = []\n",
        "\n",
        "for i in range(12):\n",
        "\n",
        "  checkpoint_name = \"my_checkpoint_tamrin4_nlp_q1_task3_layer\" + str(i) +\".pth.tar\"\n",
        "  path = F\"/content/drive/My Drive/{checkpoint_name}\" \n",
        "  acc_layers.append(load_checkpoint(torch.load(path),_))"
      ]
    },
    {
      "cell_type": "code",
      "execution_count": null,
      "metadata": {
        "colab": {
          "base_uri": "https://localhost:8080/",
          "height": 472
        },
        "id": "h8LM9dk-88Gx",
        "outputId": "bcac7697-ecc0-4163-81b1-6cef065beb52"
      },
      "outputs": [
        {
          "data": {
            "image/png": "[encoded data removed]",
            "text/plain": [
              "<Figure size 640x480 with 1 Axes>"
            ]
          },
          "metadata": {},
          "output_type": "display_data"
        }
      ],
      "source": [
        "plt.plot(range(0,len(acc_layers)), acc_layers, color='r')\n",
        "plt.xlabel(\"Deleted Layer\")\n",
        "plt.ylabel(\"Accuracy\")\n",
        "plt.title(\" Accuracy after deleted each layer of pretrained Bert model\")\n",
        "plt.show()"
      ]
    },
    {
      "cell_type": "markdown",
      "metadata": {
        "id": "x2wmclCTD1AI"
      },
      "source": [
        "# task 4 transformers head"
      ]
    },
    {
      "cell_type": "code",
      "execution_count": 17,
      "metadata": {
        "id": "J1aExAm8D62g"
      },
      "outputs": [],
      "source": [
        "import torch.nn as nn\n",
        "\n",
        "class BERTNLIModel_with_pruning(nn.Module):\n",
        "    def __init__(self, dict_prune_layer):\n",
        "        \n",
        "        super().__init__()\n",
        "        \n",
        "        self.bert = AutoModel.from_pretrained(\"HooshvareLab/bert-base-parsbert-uncased\")\n",
        "        self.bert.prune_heads(dict_prune_layer)\n",
        "        embedding_dim = self.bert.config.to_dict()['hidden_size']\n",
        "\n",
        "        encoder_layer = nn.TransformerEncoderLayer(d_model=embedding_dim, nhead=8)\n",
        "        self.transformer_encoder = nn.TransformerEncoder(encoder_layer, num_layers=6)\n",
        "\n",
        "        self.dropout = nn.Dropout(0.2)\n",
        "\n",
        "        self.fc1 = nn.Linear(embedding_dim, 256)\n",
        "        self.act_func = nn.ReLU()\n",
        "        self.fc2 = nn.Linear(256, 3)\n",
        "\n",
        "    def forward(self, sequence, attn_mask, token_type):\n",
        "          \n",
        "        embedded = self.bert(input_ids = sequence, attention_mask = attn_mask, token_type_ids= token_type)\n",
        "        # print(\"embedded :\",embedded)\n",
        "        # print(\"embedded['last_hidden_state']:\",embedded['last_hidden_state'])\n",
        "        t_e = self.transformer_encoder( self.dropout(embedded['last_hidden_state']))\n",
        "        out = self.act_func(self.fc1(torch.mean(t_e, dim=1)))\n",
        "        out = self.fc2(out)\n",
        "\n",
        "        return out"
      ]
    },
    {
      "cell_type": "markdown",
      "metadata": {
        "id": "5rcdsBUdEkJg"
      },
      "source": [
        "# deleted 50 percent of heads"
      ]
    },
    {
      "cell_type": "code",
      "execution_count": 18,
      "metadata": {
        "id": "0c5d9AKcFafa"
      },
      "outputs": [],
      "source": [
        "\n",
        "def pick_heads(num):\n",
        "\n",
        "  dict_prune_heads = {}\n",
        "\n",
        "  for key in range(12):\n",
        "      dict_prune_heads[key] = []\n",
        "\n",
        "  for i in range(12):\n",
        "    random_heads = [random.randint(0, 11) for _ in range(num)]\n",
        "    dict_prune_heads[i] = random_heads\n",
        "\n",
        "\n",
        "  return dict_prune_heads"
      ]
    },
    {
      "cell_type": "code",
      "execution_count": null,
      "metadata": {
        "colab": {
          "base_uri": "https://localhost:8080/"
        },
        "id": "JWFCpptITPEB",
        "outputId": "1910f3ef-06af-4ef5-dbf3-a2c18ffdb9a9"
      },
      "outputs": [
        {
          "data": {
            "text/plain": [
              "{0: [2, 9, 7, 8, 5, 6],\n",
              " 1: [0, 8, 0, 6, 2, 3],\n",
              " 2: [0, 1, 7, 3, 3, 7],\n",
              " 3: [11, 6, 0, 11, 11, 1],\n",
              " 4: [7, 4, 3, 1, 5, 11],\n",
              " 5: [0, 3, 8, 5, 4, 0],\n",
              " 6: [11, 3, 5, 11, 1, 11],\n",
              " 7: [9, 11, 10, 3, 10, 8],\n",
              " 8: [0, 2, 1, 1, 6, 3],\n",
              " 9: [3, 4, 11, 7, 5, 9],\n",
              " 10: [4, 9, 8, 0, 2, 4],\n",
              " 11: [11, 7, 10, 5, 5, 8]}"
            ]
          },
          "execution_count": 53,
          "metadata": {},
          "output_type": "execute_result"
        }
      ],
      "source": [
        "pick_heads(num = 6)"
      ]
    },
    {
      "cell_type": "markdown",
      "metadata": {
        "id": "euM7PGjsTcvM"
      },
      "source": []
    },
    {
      "cell_type": "code",
      "execution_count": null,
      "metadata": {
        "id": "iqkqnmBIcOZE"
      },
      "outputs": [],
      "source": []
    },
    {
      "cell_type": "code",
      "execution_count": null,
      "metadata": {
        "colab": {
          "background_save": true,
          "base_uri": "https://localhost:8080/"
        },
        "id": "cND_29rOD6zD",
        "outputId": "cdc37737-4614-444e-a832-38d470a43ba8"
      },
      "outputs": [
        {
          "name": "stderr",
          "output_type": "stream",
          "text": [
            "Some weights of the model checkpoint at HooshvareLab/bert-base-parsbert-uncased were not used when initializing BertModel: ['cls.predictions.transform.LayerNorm.weight', 'cls.predictions.bias', 'cls.seq_relationship.weight', 'cls.seq_relationship.bias', 'cls.predictions.decoder.bias', 'cls.predictions.transform.LayerNorm.bias', 'cls.predictions.decoder.weight', 'cls.predictions.transform.dense.bias', 'cls.predictions.transform.dense.weight']\n",
            "- This IS expected if you are initializing BertModel from the checkpoint of a model trained on another task or with another architecture (e.g. initializing a BertForSequenceClassification model from a BertForPreTraining model).\n",
            "- This IS NOT expected if you are initializing BertModel from the checkpoint of a model that you expect to be exactly identical (initializing a BertForSequenceClassification model from a BertForSequenceClassification model).\n"
          ]
        },
        {
          "name": "stdout",
          "output_type": "stream",
          "text": [
            "Train: Epoch 1, Loss: 1.1055, Accuracy: 0.3376\n",
            "Test: Epoch 1, Loss: 1.1044, Accuracy: 0.3325\n",
            "------------------------------------------------------------------------\n",
            "Train: Epoch 2, Loss: 1.0511, Accuracy: 0.4158\n",
            "Test: Epoch 2, Loss: 0.9129, Accuracy: 0.5400\n",
            "------------------------------------------------------------------------\n",
            "Train: Epoch 3, Loss: 0.9441, Accuracy: 0.5308\n",
            "Test: Epoch 3, Loss: 0.8726, Accuracy: 0.5659\n",
            "------------------------------------------------------------------------\n",
            "Train: Epoch 4, Loss: 0.9194, Accuracy: 0.5412\n",
            "Test: Epoch 4, Loss: 0.8802, Accuracy: 0.5714\n",
            "------------------------------------------------------------------------\n",
            "Train: Epoch 5, Loss: 0.9131, Accuracy: 0.5438\n",
            "Test: Epoch 5, Loss: 0.8902, Accuracy: 0.5759\n",
            "------------------------------------------------------------------------\n",
            "=> Saving checkpoint\n"
          ]
        }
      ],
      "source": [
        "model = BERTNLIModel_with_pruning(pick_heads(num = 6)).to(device)\n",
        "for param in model.bert.parameters():\n",
        "  param.requires_grad = False\n",
        "\n",
        "optimizer = optim.AdamW(model.parameters(),lr=2e-5,eps=1e-6)\n",
        "criterion = nn.CrossEntropyLoss().to(device)\n",
        "\n",
        "dict_s = runn(FarsTail_dataset, model, optimizer, criterion, epochs = 5, batch_size = 16, flag_test = True, flag_test_f = False, flag_val = False, flag_train = True)\n",
        "checkpoint_name = \"my_checkpoint_tamrin4_nlp_q1_task4_50%.pth.tar\"\n",
        "checkpoint = {'test_acc_list' : dict_s}\n",
        "save_checkpoint(checkpoint, filename= checkpoint_name)"
      ]
    },
    {
      "cell_type": "markdown",
      "metadata": {
        "id": "RreMzI4tcO0G"
      },
      "source": [
        "# deleted 67 percent of heads"
      ]
    },
    {
      "cell_type": "code",
      "execution_count": null,
      "metadata": {
        "colab": {
          "background_save": true
        },
        "id": "NvakBEIfbRLB",
        "outputId": "82ea9c09-d191-45b5-c6fa-32d59fa02a56"
      },
      "outputs": [
        {
          "name": "stderr",
          "output_type": "stream",
          "text": [
            "Some weights of the model checkpoint at HooshvareLab/bert-base-parsbert-uncased were not used when initializing BertModel: ['cls.predictions.transform.LayerNorm.weight', 'cls.predictions.bias', 'cls.seq_relationship.weight', 'cls.seq_relationship.bias', 'cls.predictions.decoder.bias', 'cls.predictions.transform.LayerNorm.bias', 'cls.predictions.decoder.weight', 'cls.predictions.transform.dense.bias', 'cls.predictions.transform.dense.weight']\n",
            "- This IS expected if you are initializing BertModel from the checkpoint of a model trained on another task or with another architecture (e.g. initializing a BertForSequenceClassification model from a BertForPreTraining model).\n",
            "- This IS NOT expected if you are initializing BertModel from the checkpoint of a model that you expect to be exactly identical (initializing a BertForSequenceClassification model from a BertForSequenceClassification model).\n"
          ]
        },
        {
          "name": "stdout",
          "output_type": "stream",
          "text": [
            "Train: Epoch 1, Loss: 1.1105, Accuracy: 0.3389\n",
            "Test: Epoch 1, Loss: 1.0956, Accuracy: 0.3512\n",
            "------------------------------------------------------------------------\n",
            "Train: Epoch 2, Loss: 1.0800, Accuracy: 0.3900\n",
            "Test: Epoch 2, Loss: 0.9916, Accuracy: 0.4915\n",
            "------------------------------------------------------------------------\n",
            "Train: Epoch 3, Loss: 1.0110, Accuracy: 0.4728\n",
            "Test: Epoch 3, Loss: 0.9819, Accuracy: 0.5000\n",
            "------------------------------------------------------------------------\n",
            "Train: Epoch 4, Loss: 0.9805, Accuracy: 0.4973\n",
            "Test: Epoch 4, Loss: 0.9363, Accuracy: 0.5383\n",
            "------------------------------------------------------------------------\n",
            "Train: Epoch 5, Loss: 0.9648, Accuracy: 0.5037\n",
            "Test: Epoch 5, Loss: 0.9108, Accuracy: 0.5395\n",
            "------------------------------------------------------------------------\n",
            "=> Saving checkpoint\n"
          ]
        }
      ],
      "source": [
        "model = BERTNLIModel_with_pruning(pick_heads(num = 7)).to(device)\n",
        "for param in model.bert.parameters():\n",
        "  param.requires_grad = False\n",
        "\n",
        "optimizer = optim.AdamW(model.parameters(),lr=2e-5,eps=1e-6)\n",
        "criterion = nn.CrossEntropyLoss().to(device)\n",
        "\n",
        "dict_s, test_loader = runn(FarsTail_dataset, model, optimizer, criterion, epochs = 5, batch_size = 16, flag_test = True, flag_test_f = False, flag_val = False, flag_train = True)\n",
        "checkpoint_name = \"my_checkpoint_tamrin4_nlp_q1_task4_70%.pth.tar\"\n",
        "checkpoint = {'test_acc_list' : dict_s}\n",
        "save_checkpoint(checkpoint, filename= checkpoint_name)"
      ]
    },
    {
      "cell_type": "markdown",
      "metadata": {
        "id": "j_W33nmscUMn"
      },
      "source": [
        "# deleted 83 percent of heads"
      ]
    },
    {
      "cell_type": "code",
      "execution_count": 22,
      "metadata": {
        "id": "WSBYrkZRD6w8",
        "outputId": "58fa98e3-6c12-40c8-bcca-9629f7b9fcd9",
        "colab": {
          "base_uri": "https://localhost:8080/"
        }
      },
      "outputs": [
        {
          "metadata": {
            "tags": null
          },
          "name": "stderr",
          "output_type": "stream",
          "text": [
            "Some weights of the model checkpoint at HooshvareLab/bert-base-parsbert-uncased were not used when initializing BertModel: ['cls.seq_relationship.weight', 'cls.predictions.transform.LayerNorm.weight', 'cls.predictions.decoder.bias', 'cls.predictions.transform.LayerNorm.bias', 'cls.seq_relationship.bias', 'cls.predictions.bias', 'cls.predictions.transform.dense.bias', 'cls.predictions.decoder.weight', 'cls.predictions.transform.dense.weight']\n",
            "- This IS expected if you are initializing BertModel from the checkpoint of a model trained on another task or with another architecture (e.g. initializing a BertForSequenceClassification model from a BertForPreTraining model).\n",
            "- This IS NOT expected if you are initializing BertModel from the checkpoint of a model that you expect to be exactly identical (initializing a BertForSequenceClassification model from a BertForSequenceClassification model).\n"
          ]
        },
        {
          "output_type": "stream",
          "name": "stdout",
          "text": [
            "Train: Epoch 1, Loss: 1.1090, Accuracy: 0.3374\n",
            "Test: Epoch 1, Loss: 1.0954, Accuracy: 0.3673\n",
            "------------------------------------------------------------------------\n",
            "Train: Epoch 2, Loss: 1.0908, Accuracy: 0.3688\n",
            "Test: Epoch 2, Loss: 1.0390, Accuracy: 0.4554\n",
            "------------------------------------------------------------------------\n",
            "Train: Epoch 3, Loss: 1.0188, Accuracy: 0.4698\n",
            "Test: Epoch 3, Loss: 0.9559, Accuracy: 0.5261\n",
            "------------------------------------------------------------------------\n",
            "Train: Epoch 4, Loss: 0.9782, Accuracy: 0.4993\n",
            "Test: Epoch 4, Loss: 0.9323, Accuracy: 0.5274\n",
            "------------------------------------------------------------------------\n",
            "Train: Epoch 5, Loss: 0.9518, Accuracy: 0.5162\n",
            "Test: Epoch 5, Loss: 0.9130, Accuracy: 0.5504\n",
            "------------------------------------------------------------------------\n",
            "=> Saving checkpoint\n"
          ]
        }
      ],
      "source": [
        "model = BERTNLIModel_with_pruning(pick_heads(num = 8)).to(device)\n",
        "for param in model.bert.parameters():\n",
        "  param.requires_grad = False\n",
        "\n",
        "optimizer = optim.AdamW(model.parameters(),lr=2e-5,eps=1e-6)\n",
        "criterion = nn.CrossEntropyLoss().to(device)\n",
        "\n",
        "dict_s= runn(FarsTail_dataset, model, optimizer, criterion, epochs = 5, batch_size = 16, flag_test = True, flag_test_f = False, flag_val = False, flag_train = True)\n",
        "checkpoint_name = \"my_checkpoint_tamrin4_nlp_q1_task4_80%.pth.tar\"\n",
        "checkpoint = {'test_acc_list' : dict_s}\n",
        "save_checkpoint(checkpoint, filename= checkpoint_name)"
      ]
    },
    {
      "cell_type": "markdown",
      "source": [
        "# task 5\n"
      ],
      "metadata": {
        "id": "aaPUs7zQj5ZM"
      }
    },
    {
      "cell_type": "code",
      "execution_count": 23,
      "metadata": {
        "id": "_U_r_VGBeZQD",
        "colab": {
          "base_uri": "https://localhost:8080/"
        },
        "outputId": "d060057d-31bb-49cf-c3ea-f951c93796a8"
      },
      "outputs": [
        {
          "output_type": "stream",
          "name": "stderr",
          "text": [
            "Some weights of the model checkpoint at HooshvareLab/bert-base-parsbert-uncased were not used when initializing BertModel: ['cls.seq_relationship.weight', 'cls.predictions.transform.LayerNorm.weight', 'cls.predictions.decoder.bias', 'cls.predictions.transform.LayerNorm.bias', 'cls.seq_relationship.bias', 'cls.predictions.bias', 'cls.predictions.transform.dense.bias', 'cls.predictions.decoder.weight', 'cls.predictions.transform.dense.weight']\n",
            "- This IS expected if you are initializing BertModel from the checkpoint of a model trained on another task or with another architecture (e.g. initializing a BertForSequenceClassification model from a BertForPreTraining model).\n",
            "- This IS NOT expected if you are initializing BertModel from the checkpoint of a model that you expect to be exactly identical (initializing a BertForSequenceClassification model from a BertForSequenceClassification model).\n"
          ]
        },
        {
          "output_type": "stream",
          "name": "stdout",
          "text": [
            "=> Loading checkpoint\n"
          ]
        }
      ],
      "source": [
        "model = BERTNLIModel().to(device)\n",
        "\n",
        "checkpoint_name = \"my_checkpoint_tamrin4_nlp_q1_task2.pth.tar\"\n",
        "path = F\"/content/drive/My Drive/{checkpoint_name}\" \n",
        "load_checkpoint(torch.load(path),model)\n",
        "\n",
        "optimizer = optim.AdamW(model.parameters(),lr=2e-5,eps=1e-6)\n",
        "criterion = nn.CrossEntropyLoss().to(device)"
      ]
    },
    {
      "cell_type": "code",
      "source": [
        "test_df"
      ],
      "metadata": {
        "colab": {
          "base_uri": "https://localhost:8080/",
          "height": 2032
        },
        "id": "MpHY0j656sJ3",
        "outputId": "c8390fd4-3857-4a12-cc7b-434f35400254"
      },
      "execution_count": 45,
      "outputs": [
        {
          "output_type": "execute_result",
          "data": {
            "text/plain": [
              "                                                premise  \\\n",
              "0     دوران امامت امام صادق علیه السلام، مصادف است ب...   \n",
              "1     دوران امامت امام صادق علیه السلام، مصادف است ب...   \n",
              "2     با شهادت امام رضا(ع) مرحله جدیدی از تلاش ائمه ...   \n",
              "3     با شهادت امام رضا(ع) مرحله جدیدی از تلاش ائمه ...   \n",
              "4     با شهادت امام رضا(ع) مرحله جدیدی از تلاش ائمه ...   \n",
              "...                                                 ...   \n",
              "1559  دریای خَزَر یا دریای مازَندَران یا (با رواج کم...   \n",
              "1560  دریای خَزَر یا دریای مازَندَران یا (با رواج کم...   \n",
              "1561  اولین چاپ مطالب به زبان فارسی در روزنامه‌های ه...   \n",
              "1562  اولین چاپ مطالب به زبان فارسی در روزنامه‌های ه...   \n",
              "1563  اولین چاپ مطالب به زبان فارسی در روزنامه‌های ه...   \n",
              "\n",
              "                                             hypothesis label  \\\n",
              "0     امام سجاد (ع) در دورانی امامت کردند که همزمان ...     c   \n",
              "1     دستگاه فاسد حکومتی با صرف هزینه های هنگفت، سعی...     n   \n",
              "2     دوران محنت اهل بیت پس از شهادت امام رضا(ع) آغا...     e   \n",
              "3     بعد از به شهادت رسیدن امام هادی(ع) دوران محنت ...     c   \n",
              "4     حضرت جواد(ع) در سال ۱۹۵ هجری در مدینه ولادت یافت.     n   \n",
              "...                                                 ...   ...   \n",
              "1559    در حاشیه ی دریای خزر کشور آذربایجان وجود ندارد.     c   \n",
              "1560  جمهوری آذربایجان به ترکی آذربایجانی بزرگترین ک...     n   \n",
              "1561            اولین روزنامه فارسی در هند انتشار یافت.     e   \n",
              "1562             ایران نخستین روزنامه فارسی را چاپ کرد.     c   \n",
              "1563  اولین روزنامه چاپی که به زبان فارسی در ایران م...     n   \n",
              "\n",
              "      hard(hypothesis)  hard(overlap)  \n",
              "0                    0              1  \n",
              "1                    1              0  \n",
              "2                    0              0  \n",
              "3                    1              1  \n",
              "4                    1              0  \n",
              "...                ...            ...  \n",
              "1559                 0              1  \n",
              "1560                 0              1  \n",
              "1561                 1              0  \n",
              "1562                 1              0  \n",
              "1563                 1              1  \n",
              "\n",
              "[1564 rows x 5 columns]"
            ],
            "text/html": [
              "\n",
              "  <div id=\"df-5221d6a5-6578-4020-be7d-3d3a5d71b887\">\n",
              "    <div class=\"colab-df-container\">\n",
              "      <div>\n",
              "<style scoped>\n",
              "    .dataframe tbody tr th:only-of-type {\n",
              "        vertical-align: middle;\n",
              "    }\n",
              "\n",
              "    .dataframe tbody tr th {\n",
              "        vertical-align: top;\n",
              "    }\n",
              "\n",
              "    .dataframe thead th {\n",
              "        text-align: right;\n",
              "    }\n",
              "</style>\n",
              "<table border=\"1\" class=\"dataframe\">\n",
              "  <thead>\n",
              "    <tr style=\"text-align: right;\">\n",
              "      <th></th>\n",
              "      <th>premise</th>\n",
              "      <th>hypothesis</th>\n",
              "      <th>label</th>\n",
              "      <th>hard(hypothesis)</th>\n",
              "      <th>hard(overlap)</th>\n",
              "    </tr>\n",
              "  </thead>\n",
              "  <tbody>\n",
              "    <tr>\n",
              "      <th>0</th>\n",
              "      <td>دوران امامت امام صادق علیه السلام، مصادف است ب...</td>\n",
              "      <td>امام سجاد (ع) در دورانی امامت کردند که همزمان ...</td>\n",
              "      <td>c</td>\n",
              "      <td>0</td>\n",
              "      <td>1</td>\n",
              "    </tr>\n",
              "    <tr>\n",
              "      <th>1</th>\n",
              "      <td>دوران امامت امام صادق علیه السلام، مصادف است ب...</td>\n",
              "      <td>دستگاه فاسد حکومتی با صرف هزینه های هنگفت، سعی...</td>\n",
              "      <td>n</td>\n",
              "      <td>1</td>\n",
              "      <td>0</td>\n",
              "    </tr>\n",
              "    <tr>\n",
              "      <th>2</th>\n",
              "      <td>با شهادت امام رضا(ع) مرحله جدیدی از تلاش ائمه ...</td>\n",
              "      <td>دوران محنت اهل بیت پس از شهادت امام رضا(ع) آغا...</td>\n",
              "      <td>e</td>\n",
              "      <td>0</td>\n",
              "      <td>0</td>\n",
              "    </tr>\n",
              "    <tr>\n",
              "      <th>3</th>\n",
              "      <td>با شهادت امام رضا(ع) مرحله جدیدی از تلاش ائمه ...</td>\n",
              "      <td>بعد از به شهادت رسیدن امام هادی(ع) دوران محنت ...</td>\n",
              "      <td>c</td>\n",
              "      <td>1</td>\n",
              "      <td>1</td>\n",
              "    </tr>\n",
              "    <tr>\n",
              "      <th>4</th>\n",
              "      <td>با شهادت امام رضا(ع) مرحله جدیدی از تلاش ائمه ...</td>\n",
              "      <td>حضرت جواد(ع) در سال ۱۹۵ هجری در مدینه ولادت یافت.</td>\n",
              "      <td>n</td>\n",
              "      <td>1</td>\n",
              "      <td>0</td>\n",
              "    </tr>\n",
              "    <tr>\n",
              "      <th>...</th>\n",
              "      <td>...</td>\n",
              "      <td>...</td>\n",
              "      <td>...</td>\n",
              "      <td>...</td>\n",
              "      <td>...</td>\n",
              "    </tr>\n",
              "    <tr>\n",
              "      <th>1559</th>\n",
              "      <td>دریای خَزَر یا دریای مازَندَران یا (با رواج کم...</td>\n",
              "      <td>در حاشیه ی دریای خزر کشور آذربایجان وجود ندارد.</td>\n",
              "      <td>c</td>\n",
              "      <td>0</td>\n",
              "      <td>1</td>\n",
              "    </tr>\n",
              "    <tr>\n",
              "      <th>1560</th>\n",
              "      <td>دریای خَزَر یا دریای مازَندَران یا (با رواج کم...</td>\n",
              "      <td>جمهوری آذربایجان به ترکی آذربایجانی بزرگترین ک...</td>\n",
              "      <td>n</td>\n",
              "      <td>0</td>\n",
              "      <td>1</td>\n",
              "    </tr>\n",
              "    <tr>\n",
              "      <th>1561</th>\n",
              "      <td>اولین چاپ مطالب به زبان فارسی در روزنامه‌های ه...</td>\n",
              "      <td>اولین روزنامه فارسی در هند انتشار یافت.</td>\n",
              "      <td>e</td>\n",
              "      <td>1</td>\n",
              "      <td>0</td>\n",
              "    </tr>\n",
              "    <tr>\n",
              "      <th>1562</th>\n",
              "      <td>اولین چاپ مطالب به زبان فارسی در روزنامه‌های ه...</td>\n",
              "      <td>ایران نخستین روزنامه فارسی را چاپ کرد.</td>\n",
              "      <td>c</td>\n",
              "      <td>1</td>\n",
              "      <td>0</td>\n",
              "    </tr>\n",
              "    <tr>\n",
              "      <th>1563</th>\n",
              "      <td>اولین چاپ مطالب به زبان فارسی در روزنامه‌های ه...</td>\n",
              "      <td>اولین روزنامه چاپی که به زبان فارسی در ایران م...</td>\n",
              "      <td>n</td>\n",
              "      <td>1</td>\n",
              "      <td>1</td>\n",
              "    </tr>\n",
              "  </tbody>\n",
              "</table>\n",
              "<p>1564 rows × 5 columns</p>\n",
              "</div>\n",
              "      <button class=\"colab-df-convert\" onclick=\"convertToInteractive('df-5221d6a5-6578-4020-be7d-3d3a5d71b887')\"\n",
              "              title=\"Convert this dataframe to an interactive table.\"\n",
              "              style=\"display:none;\">\n",
              "        \n",
              "  <svg xmlns=\"http://www.w3.org/2000/svg\" height=\"24px\"viewBox=\"0 0 24 24\"\n",
              "       width=\"24px\">\n",
              "    <path d=\"M0 0h24v24H0V0z\" fill=\"none\"/>\n",
              "    <path d=\"M18.56 5.44l.94 2.06.94-2.06 2.06-.94-2.06-.94-.94-2.06-.94 2.06-2.06.94zm-11 1L8.5 8.5l.94-2.06 2.06-.94-2.06-.94L8.5 2.5l-.94 2.06-2.06.94zm10 10l.94 2.06.94-2.06 2.06-.94-2.06-.94-.94-2.06-.94 2.06-2.06.94z\"/><path d=\"M17.41 7.96l-1.37-1.37c-.4-.4-.92-.59-1.43-.59-.52 0-1.04.2-1.43.59L10.3 9.45l-7.72 7.72c-.78.78-.78 2.05 0 2.83L4 21.41c.39.39.9.59 1.41.59.51 0 1.02-.2 1.41-.59l7.78-7.78 2.81-2.81c.8-.78.8-2.07 0-2.86zM5.41 20L4 18.59l7.72-7.72 1.47 1.35L5.41 20z\"/>\n",
              "  </svg>\n",
              "      </button>\n",
              "      \n",
              "  <style>\n",
              "    .colab-df-container {\n",
              "      display:flex;\n",
              "      flex-wrap:wrap;\n",
              "      gap: 12px;\n",
              "    }\n",
              "\n",
              "    .colab-df-convert {\n",
              "      background-color: #E8F0FE;\n",
              "      border: none;\n",
              "      border-radius: 50%;\n",
              "      cursor: pointer;\n",
              "      display: none;\n",
              "      fill: #1967D2;\n",
              "      height: 32px;\n",
              "      padding: 0 0 0 0;\n",
              "      width: 32px;\n",
              "    }\n",
              "\n",
              "    .colab-df-convert:hover {\n",
              "      background-color: #E2EBFA;\n",
              "      box-shadow: 0px 1px 2px rgba(60, 64, 67, 0.3), 0px 1px 3px 1px rgba(60, 64, 67, 0.15);\n",
              "      fill: #174EA6;\n",
              "    }\n",
              "\n",
              "    [theme=dark] .colab-df-convert {\n",
              "      background-color: #3B4455;\n",
              "      fill: #D2E3FC;\n",
              "    }\n",
              "\n",
              "    [theme=dark] .colab-df-convert:hover {\n",
              "      background-color: #434B5C;\n",
              "      box-shadow: 0px 1px 3px 1px rgba(0, 0, 0, 0.15);\n",
              "      filter: drop-shadow(0px 1px 2px rgba(0, 0, 0, 0.3));\n",
              "      fill: #FFFFFF;\n",
              "    }\n",
              "  </style>\n",
              "\n",
              "      <script>\n",
              "        const buttonEl =\n",
              "          document.querySelector('#df-5221d6a5-6578-4020-be7d-3d3a5d71b887 button.colab-df-convert');\n",
              "        buttonEl.style.display =\n",
              "          google.colab.kernel.accessAllowed ? 'block' : 'none';\n",
              "\n",
              "        async function convertToInteractive(key) {\n",
              "          const element = document.querySelector('#df-5221d6a5-6578-4020-be7d-3d3a5d71b887');\n",
              "          const dataTable =\n",
              "            await google.colab.kernel.invokeFunction('convertToInteractive',\n",
              "                                                     [key], {});\n",
              "          if (!dataTable) return;\n",
              "\n",
              "          const docLinkHtml = 'Like what you see? Visit the ' +\n",
              "            '<a target=\"_blank\" href=https://colab.research.google.com/notebooks/data_table.ipynb>data table notebook</a>'\n",
              "            + ' to learn more about interactive tables.';\n",
              "          element.innerHTML = '';\n",
              "          dataTable['output_type'] = 'display_data';\n",
              "          await google.colab.output.renderOutput(dataTable, element);\n",
              "          const docLink = document.createElement('div');\n",
              "          docLink.innerHTML = docLinkHtml;\n",
              "          element.appendChild(docLink);\n",
              "        }\n",
              "      </script>\n",
              "    </div>\n",
              "  </div>\n",
              "  "
            ]
          },
          "metadata": {},
          "execution_count": 45
        }
      ]
    },
    {
      "cell_type": "code",
      "source": [
        "test_df['hy'][0]"
      ],
      "metadata": {
        "colab": {
          "base_uri": "https://localhost:8080/",
          "height": 35
        },
        "id": "wuWgYRtU6Y2Y",
        "outputId": "50b62c6b-cbf8-44fe-e143-07d39e7a5e14"
      },
      "execution_count": 44,
      "outputs": [
        {
          "output_type": "execute_result",
          "data": {
            "text/plain": [
              "'دوران امامت امام صادق علیه السلام، مصادف است با ترجمه آثار یونانی و گسترش مبارزات فکری و ایدئولوژیکی و نیز ظهور مذاهب و مکتب های انحرافی.'"
            ],
            "application/vnd.google.colaboratory.intrinsic+json": {
              "type": "string"
            }
          },
          "metadata": {},
          "execution_count": 44
        }
      ]
    },
    {
      "cell_type": "code",
      "source": [
        "map_label = {'e': 0, 'c': 1, 'n': 2}\n",
        "p = 155\n",
        "premise = test_df['premise'][p]\n",
        "hypothesis = test_df['hypothesis'][p]\n",
        "label = map_label[test_df['label'][p]]\n",
        "# Tokenize the premise and hypothesis using encode_plus\n",
        "tokenizer = BertTokenizer.from_pretrained(\"HooshvareLab/bert-base-parsbert-uncased\") # Using a pre-trained BERT tokenizer to encode sentences\n",
        "encoded_input = tokenizer.encode_plus(\n",
        "    text=premise,\n",
        "    text_pair=hypothesis,\n",
        "    add_special_tokens=True,\n",
        "    max_length=512,\n",
        "    padding=\"max_length\",\n",
        "    truncation=True,\n",
        "    return_tensors=\"pt\"\n",
        ")\n",
        "sequence = encoded_input[\"input_ids\"].to(device)\n",
        "attn_mask = encoded_input[\"attention_mask\"].to(device)\n",
        "token_type = encoded_input[\"token_type_ids\"].to(device)\n",
        "\n",
        "predictions = model(sequence, attn_mask, token_type)\n",
        "max_preds = predictions.argmax(dim = 1, keepdim = True).squeeze(1)\n",
        "correct = (max_preds==label).float()\n",
        "predictions"
      ],
      "metadata": {
        "colab": {
          "base_uri": "https://localhost:8080/"
        },
        "id": "ocvY4dmv4Zkd",
        "outputId": "734b91ea-461f-47bf-c60f-2112b5019119"
      },
      "execution_count": 59,
      "outputs": [
        {
          "output_type": "execute_result",
          "data": {
            "text/plain": [
              "tensor([[ 0.0922,  0.5773, -0.3096]], device='cuda:0',\n",
              "       grad_fn=<AddmmBackward0>)"
            ]
          },
          "metadata": {},
          "execution_count": 59
        }
      ]
    },
    {
      "cell_type": "code",
      "source": [
        "max_preds"
      ],
      "metadata": {
        "colab": {
          "base_uri": "https://localhost:8080/"
        },
        "id": "7GfijQi36W8G",
        "outputId": "ba40c70c-a14b-4aee-d1cf-4dcc8ffc3631"
      },
      "execution_count": 48,
      "outputs": [
        {
          "output_type": "execute_result",
          "data": {
            "text/plain": [
              "tensor([1], device='cuda:0')"
            ]
          },
          "metadata": {},
          "execution_count": 48
        }
      ]
    },
    {
      "cell_type": "code",
      "source": [
        "predictions"
      ],
      "metadata": {
        "colab": {
          "base_uri": "https://localhost:8080/"
        },
        "id": "dL4fnRlL4y2u",
        "outputId": "d3d78c90-c216-4857-ea86-20176b518290"
      },
      "execution_count": 33,
      "outputs": [
        {
          "output_type": "execute_result",
          "data": {
            "text/plain": [
              "tensor([[ 0.3960,  0.6263, -0.7072]], device='cuda:0',\n",
              "       grad_fn=<AddmmBackward0>)"
            ]
          },
          "metadata": {},
          "execution_count": 33
        }
      ]
    }
  ],
  "metadata": {
    "accelerator": "GPU",
    "colab": {
      "provenance": []
    },
    "kernelspec": {
      "display_name": "Python 3",
      "name": "python3"
    },
    "language_info": {
      "name": "python"
    },
    "widgets": {
      "application/vnd.jupyter.widget-state+json": {
        "77665dcdaa3b46c58c1a1e1282c042fe": {
          "model_module": "@jupyter-widgets/controls",
          "model_name": "HBoxModel",
          "model_module_version": "1.5.0",
          "state": {
            "_dom_classes": [],
            "_model_module": "@jupyter-widgets/controls",
            "_model_module_version": "1.5.0",
            "_model_name": "HBoxModel",
            "_view_count": null,
            "_view_module": "@jupyter-widgets/controls",
            "_view_module_version": "1.5.0",
            "_view_name": "HBoxView",
            "box_style": "",
            "children": [
              "IPY_MODEL_8a146854e0f64f2fbd02655010f660e3",
              "IPY_MODEL_fcbd78ee626c4523b834fa339b4fe4ae",
              "IPY_MODEL_094eaf0ff21f40de84a0360ab5a101c5"
            ],
            "layout": "IPY_MODEL_91dab16865424bb69fa30b89f998b324"
          }
        },
        "8a146854e0f64f2fbd02655010f660e3": {
          "model_module": "@jupyter-widgets/controls",
          "model_name": "HTMLModel",
          "model_module_version": "1.5.0",
          "state": {
            "_dom_classes": [],
            "_model_module": "@jupyter-widgets/controls",
            "_model_module_version": "1.5.0",
            "_model_name": "HTMLModel",
            "_view_count": null,
            "_view_module": "@jupyter-widgets/controls",
            "_view_module_version": "1.5.0",
            "_view_name": "HTMLView",
            "description": "",
            "description_tooltip": null,
            "layout": "IPY_MODEL_084d544a544140eea6c19356ed466404",
            "placeholder": "​",
            "style": "IPY_MODEL_c648be9b817f4d95a4cd9143960b4f4c",
            "value": "Downloading (…)lve/main/config.json: 100%"
          }
        },
        "fcbd78ee626c4523b834fa339b4fe4ae": {
          "model_module": "@jupyter-widgets/controls",
          "model_name": "FloatProgressModel",
          "model_module_version": "1.5.0",
          "state": {
            "_dom_classes": [],
            "_model_module": "@jupyter-widgets/controls",
            "_model_module_version": "1.5.0",
            "_model_name": "FloatProgressModel",
            "_view_count": null,
            "_view_module": "@jupyter-widgets/controls",
            "_view_module_version": "1.5.0",
            "_view_name": "ProgressView",
            "bar_style": "success",
            "description": "",
            "description_tooltip": null,
            "layout": "IPY_MODEL_ce865f6bfc7b47e287414087d1f2681e",
            "max": 434,
            "min": 0,
            "orientation": "horizontal",
            "style": "IPY_MODEL_6044d0e3b26d42a9b1c0369ec53d4744",
            "value": 434
          }
        },
        "094eaf0ff21f40de84a0360ab5a101c5": {
          "model_module": "@jupyter-widgets/controls",
          "model_name": "HTMLModel",
          "model_module_version": "1.5.0",
          "state": {
            "_dom_classes": [],
            "_model_module": "@jupyter-widgets/controls",
            "_model_module_version": "1.5.0",
            "_model_name": "HTMLModel",
            "_view_count": null,
            "_view_module": "@jupyter-widgets/controls",
            "_view_module_version": "1.5.0",
            "_view_name": "HTMLView",
            "description": "",
            "description_tooltip": null,
            "layout": "IPY_MODEL_e41f53a8a6544fe0a93ec8806152e1b8",
            "placeholder": "​",
            "style": "IPY_MODEL_573ee368e2aa4437b3defcbf1251243e",
            "value": " 434/434 [00:00&lt;00:00, 20.4kB/s]"
          }
        },
        "91dab16865424bb69fa30b89f998b324": {
          "model_module": "@jupyter-widgets/base",
          "model_name": "LayoutModel",
          "model_module_version": "1.2.0",
          "state": {
            "_model_module": "@jupyter-widgets/base",
            "_model_module_version": "1.2.0",
            "_model_name": "LayoutModel",
            "_view_count": null,
            "_view_module": "@jupyter-widgets/base",
            "_view_module_version": "1.2.0",
            "_view_name": "LayoutView",
            "align_content": null,
            "align_items": null,
            "align_self": null,
            "border": null,
            "bottom": null,
            "display": null,
            "flex": null,
            "flex_flow": null,
            "grid_area": null,
            "grid_auto_columns": null,
            "grid_auto_flow": null,
            "grid_auto_rows": null,
            "grid_column": null,
            "grid_gap": null,
            "grid_row": null,
            "grid_template_areas": null,
            "grid_template_columns": null,
            "grid_template_rows": null,
            "height": null,
            "justify_content": null,
            "justify_items": null,
            "left": null,
            "margin": null,
            "max_height": null,
            "max_width": null,
            "min_height": null,
            "min_width": null,
            "object_fit": null,
            "object_position": null,
            "order": null,
            "overflow": null,
            "overflow_x": null,
            "overflow_y": null,
            "padding": null,
            "right": null,
            "top": null,
            "visibility": null,
            "width": null
          }
        },
        "084d544a544140eea6c19356ed466404": {
          "model_module": "@jupyter-widgets/base",
          "model_name": "LayoutModel",
          "model_module_version": "1.2.0",
          "state": {
            "_model_module": "@jupyter-widgets/base",
            "_model_module_version": "1.2.0",
            "_model_name": "LayoutModel",
            "_view_count": null,
            "_view_module": "@jupyter-widgets/base",
            "_view_module_version": "1.2.0",
            "_view_name": "LayoutView",
            "align_content": null,
            "align_items": null,
            "align_self": null,
            "border": null,
            "bottom": null,
            "display": null,
            "flex": null,
            "flex_flow": null,
            "grid_area": null,
            "grid_auto_columns": null,
            "grid_auto_flow": null,
            "grid_auto_rows": null,
            "grid_column": null,
            "grid_gap": null,
            "grid_row": null,
            "grid_template_areas": null,
            "grid_template_columns": null,
            "grid_template_rows": null,
            "height": null,
            "justify_content": null,
            "justify_items": null,
            "left": null,
            "margin": null,
            "max_height": null,
            "max_width": null,
            "min_height": null,
            "min_width": null,
            "object_fit": null,
            "object_position": null,
            "order": null,
            "overflow": null,
            "overflow_x": null,
            "overflow_y": null,
            "padding": null,
            "right": null,
            "top": null,
            "visibility": null,
            "width": null
          }
        },
        "c648be9b817f4d95a4cd9143960b4f4c": {
          "model_module": "@jupyter-widgets/controls",
          "model_name": "DescriptionStyleModel",
          "model_module_version": "1.5.0",
          "state": {
            "_model_module": "@jupyter-widgets/controls",
            "_model_module_version": "1.5.0",
            "_model_name": "DescriptionStyleModel",
            "_view_count": null,
            "_view_module": "@jupyter-widgets/base",
            "_view_module_version": "1.2.0",
            "_view_name": "StyleView",
            "description_width": ""
          }
        },
        "ce865f6bfc7b47e287414087d1f2681e": {
          "model_module": "@jupyter-widgets/base",
          "model_name": "LayoutModel",
          "model_module_version": "1.2.0",
          "state": {
            "_model_module": "@jupyter-widgets/base",
            "_model_module_version": "1.2.0",
            "_model_name": "LayoutModel",
            "_view_count": null,
            "_view_module": "@jupyter-widgets/base",
            "_view_module_version": "1.2.0",
            "_view_name": "LayoutView",
            "align_content": null,
            "align_items": null,
            "align_self": null,
            "border": null,
            "bottom": null,
            "display": null,
            "flex": null,
            "flex_flow": null,
            "grid_area": null,
            "grid_auto_columns": null,
            "grid_auto_flow": null,
            "grid_auto_rows": null,
            "grid_column": null,
            "grid_gap": null,
            "grid_row": null,
            "grid_template_areas": null,
            "grid_template_columns": null,
            "grid_template_rows": null,
            "height": null,
            "justify_content": null,
            "justify_items": null,
            "left": null,
            "margin": null,
            "max_height": null,
            "max_width": null,
            "min_height": null,
            "min_width": null,
            "object_fit": null,
            "object_position": null,
            "order": null,
            "overflow": null,
            "overflow_x": null,
            "overflow_y": null,
            "padding": null,
            "right": null,
            "top": null,
            "visibility": null,
            "width": null
          }
        },
        "6044d0e3b26d42a9b1c0369ec53d4744": {
          "model_module": "@jupyter-widgets/controls",
          "model_name": "ProgressStyleModel",
          "model_module_version": "1.5.0",
          "state": {
            "_model_module": "@jupyter-widgets/controls",
            "_model_module_version": "1.5.0",
            "_model_name": "ProgressStyleModel",
            "_view_count": null,
            "_view_module": "@jupyter-widgets/base",
            "_view_module_version": "1.2.0",
            "_view_name": "StyleView",
            "bar_color": null,
            "description_width": ""
          }
        },
        "e41f53a8a6544fe0a93ec8806152e1b8": {
          "model_module": "@jupyter-widgets/base",
          "model_name": "LayoutModel",
          "model_module_version": "1.2.0",
          "state": {
            "_model_module": "@jupyter-widgets/base",
            "_model_module_version": "1.2.0",
            "_model_name": "LayoutModel",
            "_view_count": null,
            "_view_module": "@jupyter-widgets/base",
            "_view_module_version": "1.2.0",
            "_view_name": "LayoutView",
            "align_content": null,
            "align_items": null,
            "align_self": null,
            "border": null,
            "bottom": null,
            "display": null,
            "flex": null,
            "flex_flow": null,
            "grid_area": null,
            "grid_auto_columns": null,
            "grid_auto_flow": null,
            "grid_auto_rows": null,
            "grid_column": null,
            "grid_gap": null,
            "grid_row": null,
            "grid_template_areas": null,
            "grid_template_columns": null,
            "grid_template_rows": null,
            "height": null,
            "justify_content": null,
            "justify_items": null,
            "left": null,
            "margin": null,
            "max_height": null,
            "max_width": null,
            "min_height": null,
            "min_width": null,
            "object_fit": null,
            "object_position": null,
            "order": null,
            "overflow": null,
            "overflow_x": null,
            "overflow_y": null,
            "padding": null,
            "right": null,
            "top": null,
            "visibility": null,
            "width": null
          }
        },
        "573ee368e2aa4437b3defcbf1251243e": {
          "model_module": "@jupyter-widgets/controls",
          "model_name": "DescriptionStyleModel",
          "model_module_version": "1.5.0",
          "state": {
            "_model_module": "@jupyter-widgets/controls",
            "_model_module_version": "1.5.0",
            "_model_name": "DescriptionStyleModel",
            "_view_count": null,
            "_view_module": "@jupyter-widgets/base",
            "_view_module_version": "1.2.0",
            "_view_name": "StyleView",
            "description_width": ""
          }
        },
        "73aa0e48f7054035b7b14e0c659144b1": {
          "model_module": "@jupyter-widgets/controls",
          "model_name": "HBoxModel",
          "model_module_version": "1.5.0",
          "state": {
            "_dom_classes": [],
            "_model_module": "@jupyter-widgets/controls",
            "_model_module_version": "1.5.0",
            "_model_name": "HBoxModel",
            "_view_count": null,
            "_view_module": "@jupyter-widgets/controls",
            "_view_module_version": "1.5.0",
            "_view_name": "HBoxView",
            "box_style": "",
            "children": [
              "IPY_MODEL_580901ba525c4d2cb56ff539eabebc3f",
              "IPY_MODEL_eb306766283741fb975dcd27a24e6771",
              "IPY_MODEL_55381bb0116b41808e220a5941a3f9e9"
            ],
            "layout": "IPY_MODEL_422e8cc90b7a4a839c11d11489b35040"
          }
        },
        "580901ba525c4d2cb56ff539eabebc3f": {
          "model_module": "@jupyter-widgets/controls",
          "model_name": "HTMLModel",
          "model_module_version": "1.5.0",
          "state": {
            "_dom_classes": [],
            "_model_module": "@jupyter-widgets/controls",
            "_model_module_version": "1.5.0",
            "_model_name": "HTMLModel",
            "_view_count": null,
            "_view_module": "@jupyter-widgets/controls",
            "_view_module_version": "1.5.0",
            "_view_name": "HTMLView",
            "description": "",
            "description_tooltip": null,
            "layout": "IPY_MODEL_7287b9a0be974a4685b34e38587f9dce",
            "placeholder": "​",
            "style": "IPY_MODEL_17abe7b0ea4d466292b954416a44bdd1",
            "value": "Downloading pytorch_model.bin: 100%"
          }
        },
        "eb306766283741fb975dcd27a24e6771": {
          "model_module": "@jupyter-widgets/controls",
          "model_name": "FloatProgressModel",
          "model_module_version": "1.5.0",
          "state": {
            "_dom_classes": [],
            "_model_module": "@jupyter-widgets/controls",
            "_model_module_version": "1.5.0",
            "_model_name": "FloatProgressModel",
            "_view_count": null,
            "_view_module": "@jupyter-widgets/controls",
            "_view_module_version": "1.5.0",
            "_view_name": "ProgressView",
            "bar_style": "success",
            "description": "",
            "description_tooltip": null,
            "layout": "IPY_MODEL_071344cdd9714a029f6d1de927eede1d",
            "max": 654186735,
            "min": 0,
            "orientation": "horizontal",
            "style": "IPY_MODEL_491b32daf48b4a2799500d2f5adaca3f",
            "value": 654186735
          }
        },
        "55381bb0116b41808e220a5941a3f9e9": {
          "model_module": "@jupyter-widgets/controls",
          "model_name": "HTMLModel",
          "model_module_version": "1.5.0",
          "state": {
            "_dom_classes": [],
            "_model_module": "@jupyter-widgets/controls",
            "_model_module_version": "1.5.0",
            "_model_name": "HTMLModel",
            "_view_count": null,
            "_view_module": "@jupyter-widgets/controls",
            "_view_module_version": "1.5.0",
            "_view_name": "HTMLView",
            "description": "",
            "description_tooltip": null,
            "layout": "IPY_MODEL_e646f5672a7d4795b5d2df2ed8315760",
            "placeholder": "​",
            "style": "IPY_MODEL_149fdbbec89d4c009bc7a3530432385b",
            "value": " 654M/654M [00:06&lt;00:00, 97.9MB/s]"
          }
        },
        "422e8cc90b7a4a839c11d11489b35040": {
          "model_module": "@jupyter-widgets/base",
          "model_name": "LayoutModel",
          "model_module_version": "1.2.0",
          "state": {
            "_model_module": "@jupyter-widgets/base",
            "_model_module_version": "1.2.0",
            "_model_name": "LayoutModel",
            "_view_count": null,
            "_view_module": "@jupyter-widgets/base",
            "_view_module_version": "1.2.0",
            "_view_name": "LayoutView",
            "align_content": null,
            "align_items": null,
            "align_self": null,
            "border": null,
            "bottom": null,
            "display": null,
            "flex": null,
            "flex_flow": null,
            "grid_area": null,
            "grid_auto_columns": null,
            "grid_auto_flow": null,
            "grid_auto_rows": null,
            "grid_column": null,
            "grid_gap": null,
            "grid_row": null,
            "grid_template_areas": null,
            "grid_template_columns": null,
            "grid_template_rows": null,
            "height": null,
            "justify_content": null,
            "justify_items": null,
            "left": null,
            "margin": null,
            "max_height": null,
            "max_width": null,
            "min_height": null,
            "min_width": null,
            "object_fit": null,
            "object_position": null,
            "order": null,
            "overflow": null,
            "overflow_x": null,
            "overflow_y": null,
            "padding": null,
            "right": null,
            "top": null,
            "visibility": null,
            "width": null
          }
        },
        "7287b9a0be974a4685b34e38587f9dce": {
          "model_module": "@jupyter-widgets/base",
          "model_name": "LayoutModel",
          "model_module_version": "1.2.0",
          "state": {
            "_model_module": "@jupyter-widgets/base",
            "_model_module_version": "1.2.0",
            "_model_name": "LayoutModel",
            "_view_count": null,
            "_view_module": "@jupyter-widgets/base",
            "_view_module_version": "1.2.0",
            "_view_name": "LayoutView",
            "align_content": null,
            "align_items": null,
            "align_self": null,
            "border": null,
            "bottom": null,
            "display": null,
            "flex": null,
            "flex_flow": null,
            "grid_area": null,
            "grid_auto_columns": null,
            "grid_auto_flow": null,
            "grid_auto_rows": null,
            "grid_column": null,
            "grid_gap": null,
            "grid_row": null,
            "grid_template_areas": null,
            "grid_template_columns": null,
            "grid_template_rows": null,
            "height": null,
            "justify_content": null,
            "justify_items": null,
            "left": null,
            "margin": null,
            "max_height": null,
            "max_width": null,
            "min_height": null,
            "min_width": null,
            "object_fit": null,
            "object_position": null,
            "order": null,
            "overflow": null,
            "overflow_x": null,
            "overflow_y": null,
            "padding": null,
            "right": null,
            "top": null,
            "visibility": null,
            "width": null
          }
        },
        "17abe7b0ea4d466292b954416a44bdd1": {
          "model_module": "@jupyter-widgets/controls",
          "model_name": "DescriptionStyleModel",
          "model_module_version": "1.5.0",
          "state": {
            "_model_module": "@jupyter-widgets/controls",
            "_model_module_version": "1.5.0",
            "_model_name": "DescriptionStyleModel",
            "_view_count": null,
            "_view_module": "@jupyter-widgets/base",
            "_view_module_version": "1.2.0",
            "_view_name": "StyleView",
            "description_width": ""
          }
        },
        "071344cdd9714a029f6d1de927eede1d": {
          "model_module": "@jupyter-widgets/base",
          "model_name": "LayoutModel",
          "model_module_version": "1.2.0",
          "state": {
            "_model_module": "@jupyter-widgets/base",
            "_model_module_version": "1.2.0",
            "_model_name": "LayoutModel",
            "_view_count": null,
            "_view_module": "@jupyter-widgets/base",
            "_view_module_version": "1.2.0",
            "_view_name": "LayoutView",
            "align_content": null,
            "align_items": null,
            "align_self": null,
            "border": null,
            "bottom": null,
            "display": null,
            "flex": null,
            "flex_flow": null,
            "grid_area": null,
            "grid_auto_columns": null,
            "grid_auto_flow": null,
            "grid_auto_rows": null,
            "grid_column": null,
            "grid_gap": null,
            "grid_row": null,
            "grid_template_areas": null,
            "grid_template_columns": null,
            "grid_template_rows": null,
            "height": null,
            "justify_content": null,
            "justify_items": null,
            "left": null,
            "margin": null,
            "max_height": null,
            "max_width": null,
            "min_height": null,
            "min_width": null,
            "object_fit": null,
            "object_position": null,
            "order": null,
            "overflow": null,
            "overflow_x": null,
            "overflow_y": null,
            "padding": null,
            "right": null,
            "top": null,
            "visibility": null,
            "width": null
          }
        },
        "491b32daf48b4a2799500d2f5adaca3f": {
          "model_module": "@jupyter-widgets/controls",
          "model_name": "ProgressStyleModel",
          "model_module_version": "1.5.0",
          "state": {
            "_model_module": "@jupyter-widgets/controls",
            "_model_module_version": "1.5.0",
            "_model_name": "ProgressStyleModel",
            "_view_count": null,
            "_view_module": "@jupyter-widgets/base",
            "_view_module_version": "1.2.0",
            "_view_name": "StyleView",
            "bar_color": null,
            "description_width": ""
          }
        },
        "e646f5672a7d4795b5d2df2ed8315760": {
          "model_module": "@jupyter-widgets/base",
          "model_name": "LayoutModel",
          "model_module_version": "1.2.0",
          "state": {
            "_model_module": "@jupyter-widgets/base",
            "_model_module_version": "1.2.0",
            "_model_name": "LayoutModel",
            "_view_count": null,
            "_view_module": "@jupyter-widgets/base",
            "_view_module_version": "1.2.0",
            "_view_name": "LayoutView",
            "align_content": null,
            "align_items": null,
            "align_self": null,
            "border": null,
            "bottom": null,
            "display": null,
            "flex": null,
            "flex_flow": null,
            "grid_area": null,
            "grid_auto_columns": null,
            "grid_auto_flow": null,
            "grid_auto_rows": null,
            "grid_column": null,
            "grid_gap": null,
            "grid_row": null,
            "grid_template_areas": null,
            "grid_template_columns": null,
            "grid_template_rows": null,
            "height": null,
            "justify_content": null,
            "justify_items": null,
            "left": null,
            "margin": null,
            "max_height": null,
            "max_width": null,
            "min_height": null,
            "min_width": null,
            "object_fit": null,
            "object_position": null,
            "order": null,
            "overflow": null,
            "overflow_x": null,
            "overflow_y": null,
            "padding": null,
            "right": null,
            "top": null,
            "visibility": null,
            "width": null
          }
        },
        "149fdbbec89d4c009bc7a3530432385b": {
          "model_module": "@jupyter-widgets/controls",
          "model_name": "DescriptionStyleModel",
          "model_module_version": "1.5.0",
          "state": {
            "_model_module": "@jupyter-widgets/controls",
            "_model_module_version": "1.5.0",
            "_model_name": "DescriptionStyleModel",
            "_view_count": null,
            "_view_module": "@jupyter-widgets/base",
            "_view_module_version": "1.2.0",
            "_view_name": "StyleView",
            "description_width": ""
          }
        },
        "413da2526c55490e933c398a0ae93698": {
          "model_module": "@jupyter-widgets/controls",
          "model_name": "HBoxModel",
          "model_module_version": "1.5.0",
          "state": {
            "_dom_classes": [],
            "_model_module": "@jupyter-widgets/controls",
            "_model_module_version": "1.5.0",
            "_model_name": "HBoxModel",
            "_view_count": null,
            "_view_module": "@jupyter-widgets/controls",
            "_view_module_version": "1.5.0",
            "_view_name": "HBoxView",
            "box_style": "",
            "children": [
              "IPY_MODEL_6d346cc5761f44f18f13f00685131761",
              "IPY_MODEL_6deb6fbe54494c2a93ac5d8d0999be44",
              "IPY_MODEL_2520b5ce89374365a477b3fca74febc8"
            ],
            "layout": "IPY_MODEL_5fde41cc53514ec886e2d856f4c3c3c4"
          }
        },
        "6d346cc5761f44f18f13f00685131761": {
          "model_module": "@jupyter-widgets/controls",
          "model_name": "HTMLModel",
          "model_module_version": "1.5.0",
          "state": {
            "_dom_classes": [],
            "_model_module": "@jupyter-widgets/controls",
            "_model_module_version": "1.5.0",
            "_model_name": "HTMLModel",
            "_view_count": null,
            "_view_module": "@jupyter-widgets/controls",
            "_view_module_version": "1.5.0",
            "_view_name": "HTMLView",
            "description": "",
            "description_tooltip": null,
            "layout": "IPY_MODEL_e09bd3ca2419421aafda2e5047e5ed24",
            "placeholder": "​",
            "style": "IPY_MODEL_59b841d65dc645cd87c01e397b110977",
            "value": "Downloading (…)solve/main/vocab.txt: 100%"
          }
        },
        "6deb6fbe54494c2a93ac5d8d0999be44": {
          "model_module": "@jupyter-widgets/controls",
          "model_name": "FloatProgressModel",
          "model_module_version": "1.5.0",
          "state": {
            "_dom_classes": [],
            "_model_module": "@jupyter-widgets/controls",
            "_model_module_version": "1.5.0",
            "_model_name": "FloatProgressModel",
            "_view_count": null,
            "_view_module": "@jupyter-widgets/controls",
            "_view_module_version": "1.5.0",
            "_view_name": "ProgressView",
            "bar_style": "success",
            "description": "",
            "description_tooltip": null,
            "layout": "IPY_MODEL_bf051988b4ab4776a0fdad27244238f1",
            "max": 1215509,
            "min": 0,
            "orientation": "horizontal",
            "style": "IPY_MODEL_194e1f8f6b9f42a6992189bb3e8acfe8",
            "value": 1215509
          }
        },
        "2520b5ce89374365a477b3fca74febc8": {
          "model_module": "@jupyter-widgets/controls",
          "model_name": "HTMLModel",
          "model_module_version": "1.5.0",
          "state": {
            "_dom_classes": [],
            "_model_module": "@jupyter-widgets/controls",
            "_model_module_version": "1.5.0",
            "_model_name": "HTMLModel",
            "_view_count": null,
            "_view_module": "@jupyter-widgets/controls",
            "_view_module_version": "1.5.0",
            "_view_name": "HTMLView",
            "description": "",
            "description_tooltip": null,
            "layout": "IPY_MODEL_e5a97638360141ce9bf2211ba30a0bf1",
            "placeholder": "​",
            "style": "IPY_MODEL_324c4518b8524d3d8252324289202e1f",
            "value": " 1.22M/1.22M [00:00&lt;00:00, 2.98MB/s]"
          }
        },
        "5fde41cc53514ec886e2d856f4c3c3c4": {
          "model_module": "@jupyter-widgets/base",
          "model_name": "LayoutModel",
          "model_module_version": "1.2.0",
          "state": {
            "_model_module": "@jupyter-widgets/base",
            "_model_module_version": "1.2.0",
            "_model_name": "LayoutModel",
            "_view_count": null,
            "_view_module": "@jupyter-widgets/base",
            "_view_module_version": "1.2.0",
            "_view_name": "LayoutView",
            "align_content": null,
            "align_items": null,
            "align_self": null,
            "border": null,
            "bottom": null,
            "display": null,
            "flex": null,
            "flex_flow": null,
            "grid_area": null,
            "grid_auto_columns": null,
            "grid_auto_flow": null,
            "grid_auto_rows": null,
            "grid_column": null,
            "grid_gap": null,
            "grid_row": null,
            "grid_template_areas": null,
            "grid_template_columns": null,
            "grid_template_rows": null,
            "height": null,
            "justify_content": null,
            "justify_items": null,
            "left": null,
            "margin": null,
            "max_height": null,
            "max_width": null,
            "min_height": null,
            "min_width": null,
            "object_fit": null,
            "object_position": null,
            "order": null,
            "overflow": null,
            "overflow_x": null,
            "overflow_y": null,
            "padding": null,
            "right": null,
            "top": null,
            "visibility": null,
            "width": null
          }
        },
        "e09bd3ca2419421aafda2e5047e5ed24": {
          "model_module": "@jupyter-widgets/base",
          "model_name": "LayoutModel",
          "model_module_version": "1.2.0",
          "state": {
            "_model_module": "@jupyter-widgets/base",
            "_model_module_version": "1.2.0",
            "_model_name": "LayoutModel",
            "_view_count": null,
            "_view_module": "@jupyter-widgets/base",
            "_view_module_version": "1.2.0",
            "_view_name": "LayoutView",
            "align_content": null,
            "align_items": null,
            "align_self": null,
            "border": null,
            "bottom": null,
            "display": null,
            "flex": null,
            "flex_flow": null,
            "grid_area": null,
            "grid_auto_columns": null,
            "grid_auto_flow": null,
            "grid_auto_rows": null,
            "grid_column": null,
            "grid_gap": null,
            "grid_row": null,
            "grid_template_areas": null,
            "grid_template_columns": null,
            "grid_template_rows": null,
            "height": null,
            "justify_content": null,
            "justify_items": null,
            "left": null,
            "margin": null,
            "max_height": null,
            "max_width": null,
            "min_height": null,
            "min_width": null,
            "object_fit": null,
            "object_position": null,
            "order": null,
            "overflow": null,
            "overflow_x": null,
            "overflow_y": null,
            "padding": null,
            "right": null,
            "top": null,
            "visibility": null,
            "width": null
          }
        },
        "59b841d65dc645cd87c01e397b110977": {
          "model_module": "@jupyter-widgets/controls",
          "model_name": "DescriptionStyleModel",
          "model_module_version": "1.5.0",
          "state": {
            "_model_module": "@jupyter-widgets/controls",
            "_model_module_version": "1.5.0",
            "_model_name": "DescriptionStyleModel",
            "_view_count": null,
            "_view_module": "@jupyter-widgets/base",
            "_view_module_version": "1.2.0",
            "_view_name": "StyleView",
            "description_width": ""
          }
        },
        "bf051988b4ab4776a0fdad27244238f1": {
          "model_module": "@jupyter-widgets/base",
          "model_name": "LayoutModel",
          "model_module_version": "1.2.0",
          "state": {
            "_model_module": "@jupyter-widgets/base",
            "_model_module_version": "1.2.0",
            "_model_name": "LayoutModel",
            "_view_count": null,
            "_view_module": "@jupyter-widgets/base",
            "_view_module_version": "1.2.0",
            "_view_name": "LayoutView",
            "align_content": null,
            "align_items": null,
            "align_self": null,
            "border": null,
            "bottom": null,
            "display": null,
            "flex": null,
            "flex_flow": null,
            "grid_area": null,
            "grid_auto_columns": null,
            "grid_auto_flow": null,
            "grid_auto_rows": null,
            "grid_column": null,
            "grid_gap": null,
            "grid_row": null,
            "grid_template_areas": null,
            "grid_template_columns": null,
            "grid_template_rows": null,
            "height": null,
            "justify_content": null,
            "justify_items": null,
            "left": null,
            "margin": null,
            "max_height": null,
            "max_width": null,
            "min_height": null,
            "min_width": null,
            "object_fit": null,
            "object_position": null,
            "order": null,
            "overflow": null,
            "overflow_x": null,
            "overflow_y": null,
            "padding": null,
            "right": null,
            "top": null,
            "visibility": null,
            "width": null
          }
        },
        "194e1f8f6b9f42a6992189bb3e8acfe8": {
          "model_module": "@jupyter-widgets/controls",
          "model_name": "ProgressStyleModel",
          "model_module_version": "1.5.0",
          "state": {
            "_model_module": "@jupyter-widgets/controls",
            "_model_module_version": "1.5.0",
            "_model_name": "ProgressStyleModel",
            "_view_count": null,
            "_view_module": "@jupyter-widgets/base",
            "_view_module_version": "1.2.0",
            "_view_name": "StyleView",
            "bar_color": null,
            "description_width": ""
          }
        },
        "e5a97638360141ce9bf2211ba30a0bf1": {
          "model_module": "@jupyter-widgets/base",
          "model_name": "LayoutModel",
          "model_module_version": "1.2.0",
          "state": {
            "_model_module": "@jupyter-widgets/base",
            "_model_module_version": "1.2.0",
            "_model_name": "LayoutModel",
            "_view_count": null,
            "_view_module": "@jupyter-widgets/base",
            "_view_module_version": "1.2.0",
            "_view_name": "LayoutView",
            "align_content": null,
            "align_items": null,
            "align_self": null,
            "border": null,
            "bottom": null,
            "display": null,
            "flex": null,
            "flex_flow": null,
            "grid_area": null,
            "grid_auto_columns": null,
            "grid_auto_flow": null,
            "grid_auto_rows": null,
            "grid_column": null,
            "grid_gap": null,
            "grid_row": null,
            "grid_template_areas": null,
            "grid_template_columns": null,
            "grid_template_rows": null,
            "height": null,
            "justify_content": null,
            "justify_items": null,
            "left": null,
            "margin": null,
            "max_height": null,
            "max_width": null,
            "min_height": null,
            "min_width": null,
            "object_fit": null,
            "object_position": null,
            "order": null,
            "overflow": null,
            "overflow_x": null,
            "overflow_y": null,
            "padding": null,
            "right": null,
            "top": null,
            "visibility": null,
            "width": null
          }
        },
        "324c4518b8524d3d8252324289202e1f": {
          "model_module": "@jupyter-widgets/controls",
          "model_name": "DescriptionStyleModel",
          "model_module_version": "1.5.0",
          "state": {
            "_model_module": "@jupyter-widgets/controls",
            "_model_module_version": "1.5.0",
            "_model_name": "DescriptionStyleModel",
            "_view_count": null,
            "_view_module": "@jupyter-widgets/base",
            "_view_module_version": "1.2.0",
            "_view_name": "StyleView",
            "description_width": ""
          }
        }
      }
    }
  },
  "nbformat": 4,
  "nbformat_minor": 0
}